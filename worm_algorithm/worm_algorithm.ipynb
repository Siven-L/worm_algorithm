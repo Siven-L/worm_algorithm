{
 "cells": [
  {
   "cell_type": "markdown",
   "metadata": {},
   "source": [
    "# Worm Simulation on 2D Ising Lattice"
   ]
  },
  {
   "cell_type": "markdown",
   "metadata": {
    "heading_collapsed": true
   },
   "source": [
    "# Imports"
   ]
  },
  {
   "cell_type": "code",
   "execution_count": null,
   "metadata": {
    "ExecuteTime": {
     "start_time": "2018-01-12T21:41:08.647Z"
    },
    "hidden": true,
    "scrolled": false
   },
   "outputs": [],
   "source": [
    "import numpy as np\n",
    "import pandas as pd\n",
    "import matplotlib.pyplot as plt\n",
    "import sys\n",
    "import os\n",
    "#from operator import xor\n",
    "#from blocks import Blocks\n",
    "from worm_simulation import WormSimulation\n",
    "from bonds import Bonds\n",
    "from specific_heat import SpecificHeat\n",
    "from pca import PrincipalComponent\n",
    "#from iterated_blocking import *\n",
    "#from count_bonds import *\n",
    "from specific_heat import SpecificHeat\n",
    "from count_bonds import *\n",
    "import matplotlib.image as mpimg\n",
    "from matplotlib.offsetbox import AnchoredText\n",
    "import matplotlib.offsetbox as offsetbox\n",
    "\n",
    "%autoreload 2\n",
    "%matplotlib notebook\n",
    "import matplotlib as mpl\n",
    "label_size = 14\n",
    "plt.rc('font', family='serif')\n",
    "plt.rc('text', usetex=True)\n",
    "mpl.rcParams['xtick.labelsize'] = label_size \n",
    "mpl.rcParams['ytick.labelsize'] = label_size \n",
    "\n",
    "Tc =  2./np.log(1+np.sqrt(2))    # critical temperature"
   ]
  },
  {
   "cell_type": "markdown",
   "metadata": {
    "heading_collapsed": true
   },
   "source": [
    "# Generate Data"
   ]
  },
  {
   "cell_type": "code",
   "execution_count": 3,
   "metadata": {
    "ExecuteTime": {
     "end_time": "2018-01-12T01:48:50.849252Z",
     "start_time": "2018-01-12T01:48:47.474397Z"
    },
    "code_folding": [
     3
    ],
    "collapsed": true,
    "hidden": true
   },
   "outputs": [
    {
     "name": "stdout",
     "output_type": "stream",
     "text": [
      "compilation -- start\n",
      "\n",
      "compilation -- done\n",
      "\n"
     ]
    },
    {
     "ename": "TypeError",
     "evalue": "exceptions must derive from BaseException",
     "output_type": "error",
     "traceback": [
      "\u001b[0;31m---------------------------------------------------------------------------\u001b[0m",
      "\u001b[0;31mTypeError\u001b[0m                                 Traceback (most recent call last)",
      "\u001b[0;32m<ipython-input-3-ffe0a74b12d6>\u001b[0m in \u001b[0;36m<module>\u001b[0;34m()\u001b[0m\n\u001b[1;32m     18\u001b[0m \u001b[0;31m#Bonds(32, run=True, num_steps=1E8, decay_steps=False, T_start=1., T_end=4., T_step=0.1)\u001b[0m\u001b[0;34m\u001b[0m\u001b[0;34m\u001b[0m\u001b[0m\n\u001b[1;32m     19\u001b[0m \u001b[0;31m#Bonds(16, run=True, num_steps=1E8, decay_steps=False, T_start=1., T_end=4., T_step=0.1)\u001b[0m\u001b[0;34m\u001b[0m\u001b[0;34m\u001b[0m\u001b[0m\n\u001b[0;32m---> 20\u001b[0;31m \u001b[0mBonds\u001b[0m\u001b[0;34m(\u001b[0m\u001b[0;36m8\u001b[0m\u001b[0;34m,\u001b[0m \u001b[0mrun\u001b[0m\u001b[0;34m=\u001b[0m\u001b[0;32mTrue\u001b[0m\u001b[0;34m,\u001b[0m \u001b[0mnum_steps\u001b[0m\u001b[0;34m=\u001b[0m\u001b[0;36m1E8\u001b[0m\u001b[0;34m,\u001b[0m \u001b[0mdecay_steps\u001b[0m\u001b[0;34m=\u001b[0m\u001b[0;32mFalse\u001b[0m\u001b[0;34m,\u001b[0m \u001b[0mT_start\u001b[0m\u001b[0;34m=\u001b[0m\u001b[0;36m1.\u001b[0m\u001b[0;34m,\u001b[0m \u001b[0mT_end\u001b[0m\u001b[0;34m=\u001b[0m\u001b[0;36m4.\u001b[0m\u001b[0;34m,\u001b[0m \u001b[0mT_step\u001b[0m\u001b[0;34m=\u001b[0m\u001b[0;36m0.1\u001b[0m\u001b[0;34m)\u001b[0m\u001b[0;34m\u001b[0m\u001b[0m\n\u001b[0m\u001b[1;32m     21\u001b[0m \u001b[0mBonds\u001b[0m\u001b[0;34m(\u001b[0m\u001b[0;36m4\u001b[0m\u001b[0;34m,\u001b[0m \u001b[0mrun\u001b[0m\u001b[0;34m=\u001b[0m\u001b[0;32mTrue\u001b[0m\u001b[0;34m,\u001b[0m \u001b[0mnum_steps\u001b[0m\u001b[0;34m=\u001b[0m\u001b[0;36m1E8\u001b[0m\u001b[0;34m,\u001b[0m \u001b[0mdecay_steps\u001b[0m\u001b[0;34m=\u001b[0m\u001b[0;32mFalse\u001b[0m\u001b[0;34m,\u001b[0m \u001b[0mT_start\u001b[0m\u001b[0;34m=\u001b[0m\u001b[0;36m1.\u001b[0m\u001b[0;34m,\u001b[0m \u001b[0mT_end\u001b[0m\u001b[0;34m=\u001b[0m\u001b[0;36m4.\u001b[0m\u001b[0;34m,\u001b[0m \u001b[0mT_step\u001b[0m\u001b[0;34m=\u001b[0m\u001b[0;36m0.1\u001b[0m\u001b[0;34m)\u001b[0m\u001b[0;34m\u001b[0m\u001b[0m\n",
      "\u001b[0;32m~/worm_algorithm/worm_algorithm/bonds.py\u001b[0m in \u001b[0;36m__init__\u001b[0;34m(self, L, run, num_steps, decay_steps, verbose, T_start, T_end, T_step, block_val, write, write_blocked)\u001b[0m\n\u001b[1;32m     21\u001b[0m                  write=True, write_blocked=True):\n\u001b[1;32m     22\u001b[0m         WormSimulation.__init__(self, L, run, num_steps, decay_steps, verbose,\n\u001b[0;32m---> 23\u001b[0;31m                                 T_start, T_end, T_step)\n\u001b[0m\u001b[1;32m     24\u001b[0m         \u001b[0mself\u001b[0m\u001b[0;34m.\u001b[0m\u001b[0m_L\u001b[0m \u001b[0;34m=\u001b[0m \u001b[0mL\u001b[0m\u001b[0;34m\u001b[0m\u001b[0m\n\u001b[1;32m     25\u001b[0m         \u001b[0mself\u001b[0m\u001b[0;34m.\u001b[0m\u001b[0m_num_bonds\u001b[0m \u001b[0;34m=\u001b[0m \u001b[0;36m2\u001b[0m\u001b[0;34m*\u001b[0m\u001b[0mself\u001b[0m\u001b[0;34m.\u001b[0m\u001b[0m_L\u001b[0m\u001b[0;34m*\u001b[0m\u001b[0mself\u001b[0m\u001b[0;34m.\u001b[0m\u001b[0m_L\u001b[0m\u001b[0;34m\u001b[0m\u001b[0m\n",
      "\u001b[0;32m~/worm_algorithm/worm_algorithm/worm_simulation.py\u001b[0m in \u001b[0;36m__init__\u001b[0;34m(self, L, run, num_steps, decay_steps, verbose, T_start, T_end, T_step)\u001b[0m\n\u001b[1;32m     38\u001b[0m             \u001b[0mos\u001b[0m\u001b[0;34m.\u001b[0m\u001b[0mmakedirs\u001b[0m\u001b[0;34m(\u001b[0m\u001b[0mself\u001b[0m\u001b[0;34m.\u001b[0m\u001b[0m_bond_map_dir\u001b[0m\u001b[0;34m)\u001b[0m\u001b[0;34m\u001b[0m\u001b[0m\n\u001b[1;32m     39\u001b[0m         \u001b[0;32mif\u001b[0m \u001b[0mself\u001b[0m\u001b[0;34m.\u001b[0m\u001b[0m_run\u001b[0m\u001b[0;34m:\u001b[0m\u001b[0;34m\u001b[0m\u001b[0m\n\u001b[0;32m---> 40\u001b[0;31m             \u001b[0mself\u001b[0m\u001b[0;34m.\u001b[0m\u001b[0mmake\u001b[0m\u001b[0;34m(\u001b[0m\u001b[0;34m)\u001b[0m\u001b[0;34m\u001b[0m\u001b[0m\n\u001b[0m\u001b[1;32m     41\u001b[0m             \u001b[0mself\u001b[0m\u001b[0;34m.\u001b[0m\u001b[0mremove_old_data\u001b[0m\u001b[0;34m(\u001b[0m\u001b[0;34m)\u001b[0m\u001b[0;34m\u001b[0m\u001b[0m\n\u001b[1;32m     42\u001b[0m             \u001b[0mself\u001b[0m\u001b[0;34m.\u001b[0m\u001b[0mrun\u001b[0m\u001b[0;34m(\u001b[0m\u001b[0;34m)\u001b[0m\u001b[0;34m\u001b[0m\u001b[0m\n",
      "\u001b[0;32m~/worm_algorithm/worm_algorithm/worm_simulation.py\u001b[0m in \u001b[0;36mmake\u001b[0;34m(self)\u001b[0m\n\u001b[1;32m     84\u001b[0m                 \u001b[0;31m#  curr_dir = os.getcwd()\u001b[0m\u001b[0;34m\u001b[0m\u001b[0;34m\u001b[0m\u001b[0m\n\u001b[1;32m     85\u001b[0m                 raise \"ERROR: Unable to find executable file {}\".format(\n\u001b[0;32m---> 86\u001b[0;31m                     \u001b[0mself\u001b[0m\u001b[0;34m.\u001b[0m\u001b[0m_prog\u001b[0m\u001b[0;34m\u001b[0m\u001b[0m\n\u001b[0m\u001b[1;32m     87\u001b[0m                 )\n\u001b[1;32m     88\u001b[0m         \u001b[0;32mexcept\u001b[0m \u001b[0;34m(\u001b[0m\u001b[0mIOError\u001b[0m\u001b[0;34m,\u001b[0m \u001b[0mOSError\u001b[0m\u001b[0;34m)\u001b[0m\u001b[0;34m:\u001b[0m\u001b[0;34m\u001b[0m\u001b[0m\n",
      "\u001b[0;31mTypeError\u001b[0m: exceptions must derive from BaseException"
     ]
    }
   ],
   "source": [
    "##########################################################\n",
    "#        Feel free to change parameters as needed        #\n",
    "##########################################################\n",
    "for i in range(10):\n",
    "    print(\"\\n\" + 80*\"*\" + \"\\n\")\n",
    "    print(\"Run #: {}\".format(i))\n",
    "    print(\"\\n\" + 80*\"*\" + \"\\n\")\n",
    "    # run from 1.0 to 3.5 in steps of 0.1\n",
    "    bonds4 = Bonds(4, run=True, num_steps=1E8)\n",
    "    bonds8 = Bonds(8, run=True, num_steps=1E8)\n",
    "    bonds16 = Bonds(16, run=True, num_steps=1E8)\n",
    "    bonds32 = Bonds(32, run=True, num_steps=1E7)\n",
    "    # run from 1.8 to 2.8 in steps of 0.05\n",
    "    bonds32 = Bonds(32, run=True, num_steps=1E8, \n",
    "                    T_start=1.8, T_end=2.8, T_step=0.05)\n",
    "    bonds16 = Bonds(16, run=True, num_steps=1E8, \n",
    "                    T_start=1.8, T_end=2.8, T_step=0.05)\n",
    "    bonds8 = Bonds(8, run=True, num_steps=1E8, \n",
    "                   T_start=1.8, T_end=2.8, T_step=0.05)\n",
    "    bonds4 = Bonds(4, run=True, num_steps=1E8, \n",
    "                   T_start=1.8, T_end=2.8, T_step=0.05)"
   ]
  },
  {
   "cell_type": "markdown",
   "metadata": {},
   "source": [
    "# Data Analysis"
   ]
  },
  {
   "cell_type": "markdown",
   "metadata": {
    "heading_collapsed": true
   },
   "source": [
    "## Specific Heat"
   ]
  },
  {
   "cell_type": "code",
   "execution_count": 60,
   "metadata": {
    "ExecuteTime": {
     "end_time": "2018-01-12T21:28:11.588778Z",
     "start_time": "2018-01-12T21:26:42.960696Z"
    },
    "collapsed": true,
    "hidden": true,
    "scrolled": false
   },
   "outputs": [],
   "source": [
    "specific_heat32 = SpecificHeat(32)\n",
    "specific_heat16 = SpecificHeat(16)\n",
    "specific_heat8 = SpecificHeat(8)\n",
    "specific_heat4 = SpecificHeat(4)"
   ]
  },
  {
   "cell_type": "markdown",
   "metadata": {},
   "source": [
    "## $\\langle N_b \\rangle$, and $\\langle \\Delta_{N_b}^2\\rangle$"
   ]
  },
  {
   "cell_type": "markdown",
   "metadata": {
    "heading_collapsed": true
   },
   "source": [
    "### L = 4"
   ]
  },
  {
   "cell_type": "code",
   "execution_count": 62,
   "metadata": {
    "ExecuteTime": {
     "end_time": "2018-01-12T21:41:41.299859Z",
     "start_time": "2018-01-12T21:29:54.929080Z"
    },
    "hidden": true
   },
   "outputs": [
    {
     "name": "stdout",
     "output_type": "stream",
     "text": [
      "Reading in from: ../data/configs/4_lattice/separated_data/4_config_1.0.txt\n",
      "\n",
      "Reading in from: ../data/configs/4_lattice/separated_data/4_config_1.1.txt\n",
      "\n",
      "Reading in from: ../data/configs/4_lattice/separated_data/4_config_1.2.txt\n",
      "\n",
      "Reading in from: ../data/configs/4_lattice/separated_data/4_config_1.3.txt\n",
      "\n",
      "Reading in from: ../data/configs/4_lattice/separated_data/4_config_1.4.txt\n",
      "\n",
      "Reading in from: ../data/configs/4_lattice/separated_data/4_config_1.5.txt\n",
      "\n",
      "Reading in from: ../data/configs/4_lattice/separated_data/4_config_1.6.txt\n",
      "\n",
      "Reading in from: ../data/configs/4_lattice/separated_data/4_config_1.7.txt\n",
      "\n",
      "Reading in from: ../data/configs/4_lattice/separated_data/4_config_1.8.txt\n",
      "\n",
      "Reading in from: ../data/configs/4_lattice/separated_data/4_config_1.9.txt\n",
      "\n",
      "Reading in from: ../data/configs/4_lattice/separated_data/4_config_2.0.txt\n",
      "\n",
      "Reading in from: ../data/configs/4_lattice/separated_data/4_config_2.05.txt\n",
      "\n",
      "Reading in from: ../data/configs/4_lattice/separated_data/4_config_2.1.txt\n",
      "\n",
      "Reading in from: ../data/configs/4_lattice/separated_data/4_config_2.15.txt\n",
      "\n",
      "Reading in from: ../data/configs/4_lattice/separated_data/4_config_2.2.txt\n",
      "\n",
      "Reading in from: ../data/configs/4_lattice/separated_data/4_config_2.25.txt\n",
      "\n",
      "Reading in from: ../data/configs/4_lattice/separated_data/4_config_2.3.txt\n",
      "\n",
      "Reading in from: ../data/configs/4_lattice/separated_data/4_config_2.35.txt\n",
      "\n",
      "Reading in from: ../data/configs/4_lattice/separated_data/4_config_2.4.txt\n",
      "\n",
      "Reading in from: ../data/configs/4_lattice/separated_data/4_config_2.45.txt\n",
      "\n",
      "Reading in from: ../data/configs/4_lattice/separated_data/4_config_2.5.txt\n",
      "\n",
      "Reading in from: ../data/configs/4_lattice/separated_data/4_config_2.6.txt\n",
      "\n",
      "Reading in from: ../data/configs/4_lattice/separated_data/4_config_2.7.txt\n",
      "\n",
      "Reading in from: ../data/configs/4_lattice/separated_data/4_config_2.8.txt\n",
      "\n",
      "Reading in from: ../data/configs/4_lattice/separated_data/4_config_2.9.txt\n",
      "\n",
      "Reading in from: ../data/configs/4_lattice/separated_data/4_config_3.0.txt\n",
      "\n",
      "Reading in from: ../data/configs/4_lattice/separated_data/4_config_3.1.txt\n",
      "\n",
      "Reading in from: ../data/configs/4_lattice/separated_data/4_config_3.2.txt\n",
      "\n",
      "Reading in from: ../data/configs/4_lattice/separated_data/4_config_3.3.txt\n",
      "\n",
      "Reading in from: ../data/configs/4_lattice/separated_data/4_config_3.4.txt\n",
      "\n",
      "Reading in from: ../data/blocked_configs/4_lattice/double_bonds_0/4_config_1.0.txt\n",
      "\n",
      "Reading in from: ../data/blocked_configs/4_lattice/double_bonds_0/4_config_1.1.txt\n",
      "\n",
      "Reading in from: ../data/blocked_configs/4_lattice/double_bonds_0/4_config_1.2.txt\n",
      "\n",
      "Reading in from: ../data/blocked_configs/4_lattice/double_bonds_0/4_config_1.3.txt\n",
      "\n",
      "Reading in from: ../data/blocked_configs/4_lattice/double_bonds_0/4_config_1.4.txt\n",
      "\n",
      "Reading in from: ../data/blocked_configs/4_lattice/double_bonds_0/4_config_1.5.txt\n",
      "\n",
      "Reading in from: ../data/blocked_configs/4_lattice/double_bonds_0/4_config_1.6.txt\n",
      "\n",
      "Reading in from: ../data/blocked_configs/4_lattice/double_bonds_0/4_config_1.7.txt\n",
      "\n",
      "Reading in from: ../data/blocked_configs/4_lattice/double_bonds_0/4_config_1.8.txt\n",
      "\n",
      "Reading in from: ../data/blocked_configs/4_lattice/double_bonds_0/4_config_1.9.txt\n",
      "\n",
      "Reading in from: ../data/blocked_configs/4_lattice/double_bonds_0/4_config_2.0.txt\n",
      "\n",
      "Reading in from: ../data/blocked_configs/4_lattice/double_bonds_0/4_config_2.05.txt\n",
      "\n",
      "Reading in from: ../data/blocked_configs/4_lattice/double_bonds_0/4_config_2.1.txt\n",
      "\n",
      "Reading in from: ../data/blocked_configs/4_lattice/double_bonds_0/4_config_2.15.txt\n",
      "\n",
      "Reading in from: ../data/blocked_configs/4_lattice/double_bonds_0/4_config_2.2.txt\n",
      "\n",
      "Reading in from: ../data/blocked_configs/4_lattice/double_bonds_0/4_config_2.25.txt\n",
      "\n",
      "Reading in from: ../data/blocked_configs/4_lattice/double_bonds_0/4_config_2.3.txt\n",
      "\n",
      "Reading in from: ../data/blocked_configs/4_lattice/double_bonds_0/4_config_2.35.txt\n",
      "\n",
      "Reading in from: ../data/blocked_configs/4_lattice/double_bonds_0/4_config_2.4.txt\n",
      "\n",
      "Reading in from: ../data/blocked_configs/4_lattice/double_bonds_0/4_config_2.45.txt\n",
      "\n",
      "Reading in from: ../data/blocked_configs/4_lattice/double_bonds_0/4_config_2.5.txt\n",
      "\n",
      "Reading in from: ../data/blocked_configs/4_lattice/double_bonds_0/4_config_2.6.txt\n",
      "\n",
      "Reading in from: ../data/blocked_configs/4_lattice/double_bonds_0/4_config_2.7.txt\n",
      "\n",
      "Reading in from: ../data/blocked_configs/4_lattice/double_bonds_0/4_config_2.8.txt\n",
      "\n",
      "Reading in from: ../data/blocked_configs/4_lattice/double_bonds_0/4_config_2.9.txt\n",
      "\n",
      "Reading in from: ../data/blocked_configs/4_lattice/double_bonds_0/4_config_3.0.txt\n",
      "\n",
      "Reading in from: ../data/blocked_configs/4_lattice/double_bonds_0/4_config_3.1.txt\n",
      "\n",
      "Reading in from: ../data/blocked_configs/4_lattice/double_bonds_0/4_config_3.2.txt\n",
      "\n",
      "Reading in from: ../data/blocked_configs/4_lattice/double_bonds_0/4_config_3.3.txt\n",
      "\n",
      "Reading in from: ../data/blocked_configs/4_lattice/double_bonds_0/4_config_3.4.txt\n",
      "\n"
     ]
    }
   ],
   "source": [
    "count_bonds4 = CountBonds(4, verbose=True, num_blocks=5)\n",
    "# 2m 41s\n",
    "\n",
    "Nb4 = np.array([\n",
    "    (i[0], i[1]) for i in sorted(list( count_bonds4.bond_stats.values()))\n",
    "])\n",
    "delta_Nb4 = np.array([\n",
    "    (i[2], i[3]) for i in sorted(list(count_bonds4.bond_stats.values()))\n",
    "])\n",
    "Nb4_temps = np.array([\n",
    "    float(i) for i in sorted(list(count_bonds4.bond_stats.keys()))\n",
    "])\n",
    "\n",
    "#########################\n",
    "#        BLOCKED        #\n",
    "#########################\n",
    "count_bonds4b = CountBonds(4, block_val=0, verbose=True, num_blocks=5)\n",
    "# 2m 4b1s using num_blocks=10\n",
    "\n",
    "Nb4b = np.array([\n",
    "    (i[0], i[1]) for i in list(count_bonds4b.bond_stats.values())\n",
    "])\n",
    "delta_Nb4b = np.array([\n",
    "    (i[2], i[3]) for i in list(count_bonds4b.bond_stats.values())\n",
    "])\n",
    "Nb4b_temps = np.array([\n",
    "    float(i) for i in list(count_bonds4b.bond_stats.keys())\n",
    "])"
   ]
  },
  {
   "cell_type": "markdown",
   "metadata": {
    "heading_collapsed": true
   },
   "source": [
    "### L = 8"
   ]
  },
  {
   "cell_type": "code",
   "execution_count": 63,
   "metadata": {
    "ExecuteTime": {
     "end_time": "2018-01-12T21:48:11.888732Z",
     "start_time": "2018-01-12T21:41:41.301152Z"
    },
    "hidden": true
   },
   "outputs": [
    {
     "name": "stdout",
     "output_type": "stream",
     "text": [
      "Reading in from: ../data/configs/8_lattice/separated_data/8_config_1.0.txt\n",
      "\n",
      "Reading in from: ../data/configs/8_lattice/separated_data/8_config_1.1.txt\n",
      "\n",
      "Reading in from: ../data/configs/8_lattice/separated_data/8_config_1.2.txt\n",
      "\n",
      "Reading in from: ../data/configs/8_lattice/separated_data/8_config_1.3.txt\n",
      "\n",
      "Reading in from: ../data/configs/8_lattice/separated_data/8_config_1.4.txt\n",
      "\n",
      "Reading in from: ../data/configs/8_lattice/separated_data/8_config_1.5.txt\n",
      "\n",
      "Reading in from: ../data/configs/8_lattice/separated_data/8_config_1.6.txt\n",
      "\n",
      "Reading in from: ../data/configs/8_lattice/separated_data/8_config_1.7.txt\n",
      "\n",
      "Reading in from: ../data/configs/8_lattice/separated_data/8_config_1.8.txt\n",
      "\n",
      "Reading in from: ../data/configs/8_lattice/separated_data/8_config_1.85.txt\n",
      "\n",
      "Reading in from: ../data/configs/8_lattice/separated_data/8_config_1.9.txt\n",
      "\n",
      "Reading in from: ../data/configs/8_lattice/separated_data/8_config_1.95.txt\n",
      "\n",
      "Reading in from: ../data/configs/8_lattice/separated_data/8_config_2.0.txt\n",
      "\n",
      "Reading in from: ../data/configs/8_lattice/separated_data/8_config_2.02.txt\n",
      "\n",
      "Reading in from: ../data/configs/8_lattice/separated_data/8_config_2.04.txt\n",
      "\n",
      "Reading in from: ../data/configs/8_lattice/separated_data/8_config_2.05.txt\n",
      "\n",
      "Reading in from: ../data/configs/8_lattice/separated_data/8_config_2.06.txt\n",
      "\n",
      "Reading in from: ../data/configs/8_lattice/separated_data/8_config_2.08.txt\n",
      "\n",
      "Reading in from: ../data/configs/8_lattice/separated_data/8_config_2.1.txt\n",
      "\n",
      "Reading in from: ../data/configs/8_lattice/separated_data/8_config_2.12.txt\n",
      "\n",
      "Reading in from: ../data/configs/8_lattice/separated_data/8_config_2.14.txt\n",
      "\n",
      "Reading in from: ../data/configs/8_lattice/separated_data/8_config_2.15.txt\n",
      "\n",
      "Reading in from: ../data/configs/8_lattice/separated_data/8_config_2.16.txt\n",
      "\n",
      "Reading in from: ../data/configs/8_lattice/separated_data/8_config_2.18.txt\n",
      "\n",
      "Reading in from: ../data/configs/8_lattice/separated_data/8_config_2.2.txt\n",
      "\n",
      "Reading in from: ../data/configs/8_lattice/separated_data/8_config_2.22.txt\n",
      "\n",
      "Reading in from: ../data/configs/8_lattice/separated_data/8_config_2.24.txt\n",
      "\n",
      "Reading in from: ../data/configs/8_lattice/separated_data/8_config_2.25.txt\n",
      "\n",
      "Reading in from: ../data/configs/8_lattice/separated_data/8_config_2.26.txt\n",
      "\n",
      "Reading in from: ../data/configs/8_lattice/separated_data/8_config_2.28.txt\n",
      "\n",
      "Reading in from: ../data/configs/8_lattice/separated_data/8_config_2.3.txt\n",
      "\n",
      "Reading in from: ../data/configs/8_lattice/separated_data/8_config_2.32.txt\n",
      "\n",
      "Reading in from: ../data/configs/8_lattice/separated_data/8_config_2.34.txt\n",
      "\n",
      "Reading in from: ../data/configs/8_lattice/separated_data/8_config_2.35.txt\n",
      "\n",
      "Reading in from: ../data/configs/8_lattice/separated_data/8_config_2.36.txt\n",
      "\n",
      "Reading in from: ../data/configs/8_lattice/separated_data/8_config_2.38.txt\n",
      "\n",
      "Reading in from: ../data/configs/8_lattice/separated_data/8_config_2.4.txt\n",
      "\n",
      "Reading in from: ../data/configs/8_lattice/separated_data/8_config_2.45.txt\n",
      "\n",
      "Reading in from: ../data/configs/8_lattice/separated_data/8_config_2.5.txt\n",
      "\n",
      "Reading in from: ../data/configs/8_lattice/separated_data/8_config_2.55.txt\n",
      "\n",
      "Reading in from: ../data/configs/8_lattice/separated_data/8_config_2.6.txt\n",
      "\n",
      "Reading in from: ../data/configs/8_lattice/separated_data/8_config_2.65.txt\n",
      "\n",
      "Reading in from: ../data/configs/8_lattice/separated_data/8_config_2.7.txt\n",
      "\n",
      "Reading in from: ../data/configs/8_lattice/separated_data/8_config_2.75.txt\n",
      "\n",
      "Reading in from: ../data/configs/8_lattice/separated_data/8_config_2.8.txt\n",
      "\n",
      "Reading in from: ../data/configs/8_lattice/separated_data/8_config_2.9.txt\n",
      "\n",
      "Reading in from: ../data/configs/8_lattice/separated_data/8_config_3.0.txt\n",
      "\n",
      "Reading in from: ../data/configs/8_lattice/separated_data/8_config_3.1.txt\n",
      "\n",
      "Reading in from: ../data/configs/8_lattice/separated_data/8_config_3.2.txt\n",
      "\n",
      "Reading in from: ../data/configs/8_lattice/separated_data/8_config_3.3.txt\n",
      "\n",
      "Reading in from: ../data/configs/8_lattice/separated_data/8_config_3.4.txt\n",
      "\n",
      "Reading in from: ../data/configs/8_lattice/separated_data/8_config_3.5.txt\n",
      "\n",
      "Reading in from: ../data/configs/8_lattice/separated_data/8_config_3.6.txt\n",
      "\n",
      "Reading in from: ../data/configs/8_lattice/separated_data/8_config_3.7.txt\n",
      "\n",
      "Reading in from: ../data/configs/8_lattice/separated_data/8_config_3.8.txt\n",
      "\n",
      "Reading in from: ../data/configs/8_lattice/separated_data/8_config_3.9.txt\n",
      "\n",
      "Reading in from: ../data/blocked_configs/8_lattice/double_bonds_0/8_config_1.0.txt\n",
      "\n",
      "Reading in from: ../data/blocked_configs/8_lattice/double_bonds_0/8_config_1.1.txt\n",
      "\n",
      "Reading in from: ../data/blocked_configs/8_lattice/double_bonds_0/8_config_1.2.txt\n",
      "\n",
      "Reading in from: ../data/blocked_configs/8_lattice/double_bonds_0/8_config_1.3.txt\n",
      "\n",
      "Reading in from: ../data/blocked_configs/8_lattice/double_bonds_0/8_config_1.4.txt\n",
      "\n",
      "Reading in from: ../data/blocked_configs/8_lattice/double_bonds_0/8_config_1.5.txt\n",
      "\n",
      "Reading in from: ../data/blocked_configs/8_lattice/double_bonds_0/8_config_1.6.txt\n",
      "\n",
      "Reading in from: ../data/blocked_configs/8_lattice/double_bonds_0/8_config_1.7.txt\n",
      "\n",
      "Reading in from: ../data/blocked_configs/8_lattice/double_bonds_0/8_config_1.8.txt\n",
      "\n",
      "Reading in from: ../data/blocked_configs/8_lattice/double_bonds_0/8_config_1.85.txt\n",
      "\n",
      "Reading in from: ../data/blocked_configs/8_lattice/double_bonds_0/8_config_1.9.txt\n",
      "\n",
      "Reading in from: ../data/blocked_configs/8_lattice/double_bonds_0/8_config_1.95.txt\n",
      "\n",
      "Reading in from: ../data/blocked_configs/8_lattice/double_bonds_0/8_config_2.0.txt\n",
      "\n",
      "Reading in from: ../data/blocked_configs/8_lattice/double_bonds_0/8_config_2.05.txt\n",
      "\n",
      "Reading in from: ../data/blocked_configs/8_lattice/double_bonds_0/8_config_2.1.txt\n",
      "\n",
      "Reading in from: ../data/blocked_configs/8_lattice/double_bonds_0/8_config_2.15.txt\n",
      "\n",
      "Reading in from: ../data/blocked_configs/8_lattice/double_bonds_0/8_config_2.2.txt\n",
      "\n",
      "Reading in from: ../data/blocked_configs/8_lattice/double_bonds_0/8_config_2.25.txt\n",
      "\n",
      "Reading in from: ../data/blocked_configs/8_lattice/double_bonds_0/8_config_2.3.txt\n",
      "\n",
      "Reading in from: ../data/blocked_configs/8_lattice/double_bonds_0/8_config_2.35.txt\n",
      "\n",
      "Reading in from: ../data/blocked_configs/8_lattice/double_bonds_0/8_config_2.4.txt\n",
      "\n",
      "Reading in from: ../data/blocked_configs/8_lattice/double_bonds_0/8_config_2.45.txt\n",
      "\n",
      "Reading in from: ../data/blocked_configs/8_lattice/double_bonds_0/8_config_2.5.txt\n",
      "\n",
      "Reading in from: ../data/blocked_configs/8_lattice/double_bonds_0/8_config_2.55.txt\n",
      "\n",
      "Reading in from: ../data/blocked_configs/8_lattice/double_bonds_0/8_config_2.6.txt\n",
      "\n",
      "Reading in from: ../data/blocked_configs/8_lattice/double_bonds_0/8_config_2.65.txt\n",
      "\n",
      "Reading in from: ../data/blocked_configs/8_lattice/double_bonds_0/8_config_2.7.txt\n",
      "\n",
      "Reading in from: ../data/blocked_configs/8_lattice/double_bonds_0/8_config_2.75.txt\n",
      "\n",
      "Reading in from: ../data/blocked_configs/8_lattice/double_bonds_0/8_config_2.8.txt\n",
      "\n",
      "Reading in from: ../data/blocked_configs/8_lattice/double_bonds_0/8_config_2.9.txt\n",
      "\n",
      "Reading in from: ../data/blocked_configs/8_lattice/double_bonds_0/8_config_3.0.txt\n",
      "\n",
      "Reading in from: ../data/blocked_configs/8_lattice/double_bonds_0/8_config_3.1.txt\n",
      "\n",
      "Reading in from: ../data/blocked_configs/8_lattice/double_bonds_0/8_config_3.2.txt\n",
      "\n",
      "Reading in from: ../data/blocked_configs/8_lattice/double_bonds_0/8_config_3.3.txt\n",
      "\n",
      "Reading in from: ../data/blocked_configs/8_lattice/double_bonds_0/8_config_3.4.txt\n",
      "\n",
      "Reading in from: ../data/blocked_configs/8_lattice/double_bonds_0/8_config_3.5.txt\n",
      "\n",
      "Reading in from: ../data/blocked_configs/8_lattice/double_bonds_0/8_config_3.6.txt\n",
      "\n",
      "Reading in from: ../data/blocked_configs/8_lattice/double_bonds_0/8_config_3.7.txt\n",
      "\n",
      "Reading in from: ../data/blocked_configs/8_lattice/double_bonds_0/8_config_3.8.txt\n",
      "\n",
      "Reading in from: ../data/blocked_configs/8_lattice/double_bonds_0/8_config_3.9.txt\n",
      "\n"
     ]
    }
   ],
   "source": [
    "count_bonds8 = CountBonds(8, verbose=True, num_blocks=5)\n",
    "# 7m 48s for num_blocks=10, 20k lines\n",
    "# 2m 8s for num_blocks=5, 10k lines\n",
    "\n",
    "Nb8 = np.array([\n",
    "    (i[0], i[1]) for i in list(count_bonds8.bond_stats.values())\n",
    "])\n",
    "delta_Nb8 = np.array([\n",
    "    (i[2], i[3]) for i in list(count_bonds8.bond_stats.values())\n",
    "])\n",
    "Nb8_temps = np.array([\n",
    "    float(i) for i in list(count_bonds8.bond_stats.keys())\n",
    "])\n",
    "\n",
    "#########################\n",
    "#        BLOCKED        #\n",
    "#########################\n",
    "count_bonds8b = CountBonds(8, block_val=0, verbose=True, num_blocks=5)\n",
    "# 2m 8b1s using num_blocks=10\n",
    "\n",
    "Nb8b = np.array([\n",
    "    (i[0], i[1]) for i in sorted(list(count_bonds8b.bond_stats.values()))\n",
    "])\n",
    "delta_Nb8b = np.array([\n",
    "    (i[2], i[3]) for i in sorted(list(count_bonds8b.bond_stats.values()))\n",
    "])\n",
    "Nb8b_temps = np.array([\n",
    "    float(i) for i in sorted(list(count_bonds8b.bond_stats.keys()))\n",
    "])"
   ]
  },
  {
   "cell_type": "markdown",
   "metadata": {
    "heading_collapsed": true
   },
   "source": [
    "### L = 16"
   ]
  },
  {
   "cell_type": "code",
   "execution_count": 64,
   "metadata": {
    "ExecuteTime": {
     "end_time": "2018-01-12T21:53:57.273225Z",
     "start_time": "2018-01-12T21:48:11.890289Z"
    },
    "hidden": true,
    "scrolled": true
   },
   "outputs": [
    {
     "name": "stdout",
     "output_type": "stream",
     "text": [
      "Reading in from: ../data/configs/16_lattice/separated_data/16_config_1.0.txt\n",
      "\n",
      "Reading in from: ../data/configs/16_lattice/separated_data/16_config_1.1.txt\n",
      "\n",
      "Reading in from: ../data/configs/16_lattice/separated_data/16_config_1.2.txt\n",
      "\n",
      "Reading in from: ../data/configs/16_lattice/separated_data/16_config_1.3.txt\n",
      "\n",
      "Reading in from: ../data/configs/16_lattice/separated_data/16_config_1.4.txt\n",
      "\n",
      "Reading in from: ../data/configs/16_lattice/separated_data/16_config_1.5.txt\n",
      "\n",
      "Reading in from: ../data/configs/16_lattice/separated_data/16_config_1.6.txt\n",
      "\n",
      "Reading in from: ../data/configs/16_lattice/separated_data/16_config_1.7.txt\n",
      "\n",
      "Reading in from: ../data/configs/16_lattice/separated_data/16_config_1.8.txt\n",
      "\n",
      "Reading in from: ../data/configs/16_lattice/separated_data/16_config_1.85.txt\n",
      "\n",
      "Reading in from: ../data/configs/16_lattice/separated_data/16_config_1.9.txt\n",
      "\n",
      "Reading in from: ../data/configs/16_lattice/separated_data/16_config_1.95.txt\n",
      "\n",
      "Reading in from: ../data/configs/16_lattice/separated_data/16_config_2.0.txt\n",
      "\n",
      "Reading in from: ../data/configs/16_lattice/separated_data/16_config_2.02.txt\n",
      "\n",
      "Reading in from: ../data/configs/16_lattice/separated_data/16_config_2.04.txt\n",
      "\n",
      "Reading in from: ../data/configs/16_lattice/separated_data/16_config_2.05.txt\n",
      "\n",
      "Reading in from: ../data/configs/16_lattice/separated_data/16_config_2.06.txt\n",
      "\n",
      "Reading in from: ../data/configs/16_lattice/separated_data/16_config_2.08.txt\n",
      "\n",
      "Reading in from: ../data/configs/16_lattice/separated_data/16_config_2.1.txt\n",
      "\n",
      "Reading in from: ../data/configs/16_lattice/separated_data/16_config_2.12.txt\n",
      "\n",
      "Reading in from: ../data/configs/16_lattice/separated_data/16_config_2.14.txt\n",
      "\n",
      "Reading in from: ../data/configs/16_lattice/separated_data/16_config_2.15.txt\n",
      "\n",
      "Reading in from: ../data/configs/16_lattice/separated_data/16_config_2.16.txt\n",
      "\n",
      "Reading in from: ../data/configs/16_lattice/separated_data/16_config_2.18.txt\n",
      "\n",
      "Reading in from: ../data/configs/16_lattice/separated_data/16_config_2.2.txt\n",
      "\n",
      "Reading in from: ../data/configs/16_lattice/separated_data/16_config_2.22.txt\n",
      "\n",
      "Reading in from: ../data/configs/16_lattice/separated_data/16_config_2.24.txt\n",
      "\n",
      "Reading in from: ../data/configs/16_lattice/separated_data/16_config_2.25.txt\n",
      "\n",
      "Reading in from: ../data/configs/16_lattice/separated_data/16_config_2.26.txt\n",
      "\n",
      "Reading in from: ../data/configs/16_lattice/separated_data/16_config_2.28.txt\n",
      "\n",
      "Reading in from: ../data/configs/16_lattice/separated_data/16_config_2.3.txt\n",
      "\n",
      "Reading in from: ../data/configs/16_lattice/separated_data/16_config_2.32.txt\n",
      "\n",
      "Reading in from: ../data/configs/16_lattice/separated_data/16_config_2.34.txt\n",
      "\n",
      "Reading in from: ../data/configs/16_lattice/separated_data/16_config_2.35.txt\n",
      "\n",
      "Reading in from: ../data/configs/16_lattice/separated_data/16_config_2.36.txt\n",
      "\n",
      "Reading in from: ../data/configs/16_lattice/separated_data/16_config_2.38.txt\n",
      "\n",
      "Reading in from: ../data/configs/16_lattice/separated_data/16_config_2.4.txt\n",
      "\n",
      "Reading in from: ../data/configs/16_lattice/separated_data/16_config_2.42.txt\n",
      "\n",
      "Reading in from: ../data/configs/16_lattice/separated_data/16_config_2.44.txt\n",
      "\n",
      "Reading in from: ../data/configs/16_lattice/separated_data/16_config_2.45.txt\n",
      "\n",
      "Reading in from: ../data/configs/16_lattice/separated_data/16_config_2.46.txt\n",
      "\n",
      "Reading in from: ../data/configs/16_lattice/separated_data/16_config_2.48.txt\n",
      "\n",
      "Reading in from: ../data/configs/16_lattice/separated_data/16_config_2.5.txt\n",
      "\n",
      "Reading in from: ../data/configs/16_lattice/separated_data/16_config_2.55.txt\n",
      "\n",
      "Reading in from: ../data/configs/16_lattice/separated_data/16_config_2.6.txt\n",
      "\n",
      "Reading in from: ../data/configs/16_lattice/separated_data/16_config_2.65.txt\n",
      "\n",
      "Reading in from: ../data/configs/16_lattice/separated_data/16_config_2.7.txt\n",
      "\n",
      "Reading in from: ../data/configs/16_lattice/separated_data/16_config_2.75.txt\n",
      "\n",
      "Reading in from: ../data/configs/16_lattice/separated_data/16_config_2.8.txt\n",
      "\n",
      "Reading in from: ../data/configs/16_lattice/separated_data/16_config_2.9.txt\n",
      "\n",
      "Reading in from: ../data/configs/16_lattice/separated_data/16_config_3.0.txt\n",
      "\n",
      "Reading in from: ../data/configs/16_lattice/separated_data/16_config_3.1.txt\n",
      "\n",
      "Reading in from: ../data/configs/16_lattice/separated_data/16_config_3.2.txt\n",
      "\n",
      "Reading in from: ../data/configs/16_lattice/separated_data/16_config_3.3.txt\n",
      "\n",
      "Reading in from: ../data/configs/16_lattice/separated_data/16_config_3.4.txt\n",
      "\n",
      "Reading in from: ../data/configs/16_lattice/separated_data/16_config_3.5.txt\n",
      "\n",
      "Reading in from: ../data/configs/16_lattice/separated_data/16_config_3.6.txt\n",
      "\n",
      "Reading in from: ../data/configs/16_lattice/separated_data/16_config_3.7.txt\n",
      "\n",
      "Reading in from: ../data/configs/16_lattice/separated_data/16_config_3.8.txt\n",
      "\n",
      "Reading in from: ../data/configs/16_lattice/separated_data/16_config_3.9.txt\n",
      "\n",
      "Reading in from: ../data/blocked_configs/16_lattice/double_bonds_0/16_config_1.0.txt\n",
      "\n",
      "Reading in from: ../data/blocked_configs/16_lattice/double_bonds_0/16_config_1.1.txt\n",
      "\n",
      "Reading in from: ../data/blocked_configs/16_lattice/double_bonds_0/16_config_1.2.txt\n",
      "\n",
      "Reading in from: ../data/blocked_configs/16_lattice/double_bonds_0/16_config_1.3.txt\n",
      "\n",
      "Reading in from: ../data/blocked_configs/16_lattice/double_bonds_0/16_config_1.4.txt\n",
      "\n",
      "Reading in from: ../data/blocked_configs/16_lattice/double_bonds_0/16_config_1.5.txt\n",
      "\n",
      "Reading in from: ../data/blocked_configs/16_lattice/double_bonds_0/16_config_1.6.txt\n",
      "\n",
      "Reading in from: ../data/blocked_configs/16_lattice/double_bonds_0/16_config_1.7.txt\n",
      "\n",
      "Reading in from: ../data/blocked_configs/16_lattice/double_bonds_0/16_config_1.8.txt\n",
      "\n",
      "Reading in from: ../data/blocked_configs/16_lattice/double_bonds_0/16_config_1.85.txt\n",
      "\n",
      "Reading in from: ../data/blocked_configs/16_lattice/double_bonds_0/16_config_1.9.txt\n",
      "\n",
      "Reading in from: ../data/blocked_configs/16_lattice/double_bonds_0/16_config_1.95.txt\n",
      "\n",
      "Reading in from: ../data/blocked_configs/16_lattice/double_bonds_0/16_config_2.0.txt\n",
      "\n",
      "Reading in from: ../data/blocked_configs/16_lattice/double_bonds_0/16_config_2.05.txt\n",
      "\n",
      "Reading in from: ../data/blocked_configs/16_lattice/double_bonds_0/16_config_2.1.txt\n",
      "\n",
      "Reading in from: ../data/blocked_configs/16_lattice/double_bonds_0/16_config_2.15.txt\n",
      "\n",
      "Reading in from: ../data/blocked_configs/16_lattice/double_bonds_0/16_config_2.2.txt\n",
      "\n",
      "Reading in from: ../data/blocked_configs/16_lattice/double_bonds_0/16_config_2.25.txt\n",
      "\n",
      "Reading in from: ../data/blocked_configs/16_lattice/double_bonds_0/16_config_2.3.txt\n",
      "\n",
      "Reading in from: ../data/blocked_configs/16_lattice/double_bonds_0/16_config_2.35.txt\n",
      "\n",
      "Reading in from: ../data/blocked_configs/16_lattice/double_bonds_0/16_config_2.4.txt\n",
      "\n",
      "Reading in from: ../data/blocked_configs/16_lattice/double_bonds_0/16_config_2.45.txt\n",
      "\n",
      "Reading in from: ../data/blocked_configs/16_lattice/double_bonds_0/16_config_2.5.txt\n",
      "\n",
      "Reading in from: ../data/blocked_configs/16_lattice/double_bonds_0/16_config_2.55.txt\n",
      "\n",
      "Reading in from: ../data/blocked_configs/16_lattice/double_bonds_0/16_config_2.6.txt\n",
      "\n",
      "Reading in from: ../data/blocked_configs/16_lattice/double_bonds_0/16_config_2.65.txt\n",
      "\n",
      "Reading in from: ../data/blocked_configs/16_lattice/double_bonds_0/16_config_2.7.txt\n",
      "\n",
      "Reading in from: ../data/blocked_configs/16_lattice/double_bonds_0/16_config_2.75.txt\n",
      "\n",
      "Reading in from: ../data/blocked_configs/16_lattice/double_bonds_0/16_config_2.8.txt\n",
      "\n",
      "Reading in from: ../data/blocked_configs/16_lattice/double_bonds_0/16_config_2.9.txt\n",
      "\n",
      "Reading in from: ../data/blocked_configs/16_lattice/double_bonds_0/16_config_3.0.txt\n",
      "\n",
      "Reading in from: ../data/blocked_configs/16_lattice/double_bonds_0/16_config_3.1.txt\n",
      "\n",
      "Reading in from: ../data/blocked_configs/16_lattice/double_bonds_0/16_config_3.2.txt\n",
      "\n",
      "Reading in from: ../data/blocked_configs/16_lattice/double_bonds_0/16_config_3.3.txt\n",
      "\n",
      "Reading in from: ../data/blocked_configs/16_lattice/double_bonds_0/16_config_3.4.txt\n",
      "\n",
      "Reading in from: ../data/blocked_configs/16_lattice/double_bonds_0/16_config_3.5.txt\n",
      "\n",
      "Reading in from: ../data/blocked_configs/16_lattice/double_bonds_0/16_config_3.6.txt\n",
      "\n",
      "Reading in from: ../data/blocked_configs/16_lattice/double_bonds_0/16_config_3.7.txt\n",
      "\n",
      "Reading in from: ../data/blocked_configs/16_lattice/double_bonds_0/16_config_3.8.txt\n",
      "\n",
      "Reading in from: ../data/blocked_configs/16_lattice/double_bonds_0/16_config_3.9.txt\n",
      "\n"
     ]
    }
   ],
   "source": [
    "count_bonds16 = CountBonds(16, verbose=True, num_blocks=5)\n",
    "# 24m 42s with num_blocks=10, 20k lines\n",
    "\n",
    "Nb16 = np.array([\n",
    "    (i[0], i[1]) for i in list(count_bonds16.bond_stats.values())\n",
    "])\n",
    "delta_Nb16 = np.array([\n",
    "    (i[2], i[3]) for i in list(count_bonds16.bond_stats.values())\n",
    "])\n",
    "Nb16_temps = np.array([\n",
    "    float(i) for i in list(count_bonds16.bond_stats.keys())\n",
    "])\n",
    "\n",
    "#########################\n",
    "#        BLOCKED        #\n",
    "#########################\n",
    "count_bonds16b = CountBonds(16, block_val=0, verbose=True, num_blocks=5)\n",
    "# 2m 16b1s using num_blocks=10\n",
    "\n",
    "Nb16b = np.array([\n",
    "    (i[0], i[1]) for i in sorted(list(count_bonds16b.bond_stats.values()))\n",
    "])\n",
    "delta_Nb16b = np.array([\n",
    "    (i[2], i[3]) for i in sorted(list(count_bonds16b.bond_stats.values()))\n",
    "])\n",
    "Nb16b_temps = np.array([\n",
    "    float(i) for i in sorted(list(count_bonds16b.bond_stats.keys()))\n",
    "])"
   ]
  },
  {
   "cell_type": "markdown",
   "metadata": {},
   "source": [
    "### L = 32"
   ]
  },
  {
   "cell_type": "code",
   "execution_count": 65,
   "metadata": {
    "ExecuteTime": {
     "end_time": "2018-01-12T22:14:05.515963Z",
     "start_time": "2018-01-12T21:53:57.274858Z"
    },
    "scrolled": true
   },
   "outputs": [
    {
     "name": "stdout",
     "output_type": "stream",
     "text": [
      "Reading in from: ../data/configs/32_lattice/separated_data/32_config_1.0.txt\n",
      "\n",
      "Reading in from: ../data/configs/32_lattice/separated_data/32_config_1.1.txt\n",
      "\n",
      "Reading in from: ../data/configs/32_lattice/separated_data/32_config_1.2.txt\n",
      "\n",
      "Reading in from: ../data/configs/32_lattice/separated_data/32_config_1.3.txt\n",
      "\n",
      "Reading in from: ../data/configs/32_lattice/separated_data/32_config_1.4.txt\n",
      "\n",
      "Reading in from: ../data/configs/32_lattice/separated_data/32_config_1.5.txt\n",
      "\n",
      "Reading in from: ../data/configs/32_lattice/separated_data/32_config_1.6.txt\n",
      "\n",
      "Reading in from: ../data/configs/32_lattice/separated_data/32_config_1.7.txt\n",
      "\n",
      "Reading in from: ../data/configs/32_lattice/separated_data/32_config_1.8.txt\n",
      "\n",
      "Reading in from: ../data/configs/32_lattice/separated_data/32_config_1.85.txt\n",
      "\n",
      "Reading in from: ../data/configs/32_lattice/separated_data/32_config_1.9.txt\n",
      "\n",
      "Reading in from: ../data/configs/32_lattice/separated_data/32_config_1.95.txt\n",
      "\n",
      "Reading in from: ../data/configs/32_lattice/separated_data/32_config_2.0.txt\n",
      "\n",
      "Reading in from: ../data/configs/32_lattice/separated_data/32_config_2.02.txt\n",
      "\n",
      "Reading in from: ../data/configs/32_lattice/separated_data/32_config_2.04.txt\n",
      "\n",
      "Reading in from: ../data/configs/32_lattice/separated_data/32_config_2.05.txt\n",
      "\n",
      "Reading in from: ../data/configs/32_lattice/separated_data/32_config_2.06.txt\n",
      "\n",
      "Reading in from: ../data/configs/32_lattice/separated_data/32_config_2.08.txt\n",
      "\n",
      "Reading in from: ../data/configs/32_lattice/separated_data/32_config_2.1.txt\n",
      "\n",
      "Reading in from: ../data/configs/32_lattice/separated_data/32_config_2.12.txt\n",
      "\n",
      "Reading in from: ../data/configs/32_lattice/separated_data/32_config_2.14.txt\n",
      "\n",
      "Reading in from: ../data/configs/32_lattice/separated_data/32_config_2.15.txt\n",
      "\n",
      "Reading in from: ../data/configs/32_lattice/separated_data/32_config_2.16.txt\n",
      "\n",
      "Reading in from: ../data/configs/32_lattice/separated_data/32_config_2.18.txt\n",
      "\n",
      "Reading in from: ../data/configs/32_lattice/separated_data/32_config_2.2.txt\n",
      "\n",
      "Reading in from: ../data/configs/32_lattice/separated_data/32_config_2.22.txt\n",
      "\n",
      "Reading in from: ../data/configs/32_lattice/separated_data/32_config_2.24.txt\n",
      "\n",
      "Reading in from: ../data/configs/32_lattice/separated_data/32_config_2.25.txt\n",
      "\n",
      "Reading in from: ../data/configs/32_lattice/separated_data/32_config_2.26.txt\n",
      "\n",
      "Reading in from: ../data/configs/32_lattice/separated_data/32_config_2.28.txt\n",
      "\n",
      "Reading in from: ../data/configs/32_lattice/separated_data/32_config_2.3.txt\n",
      "\n",
      "Reading in from: ../data/configs/32_lattice/separated_data/32_config_2.32.txt\n",
      "\n",
      "Reading in from: ../data/configs/32_lattice/separated_data/32_config_2.34.txt\n",
      "\n",
      "Reading in from: ../data/configs/32_lattice/separated_data/32_config_2.35.txt\n",
      "\n",
      "Reading in from: ../data/configs/32_lattice/separated_data/32_config_2.36.txt\n",
      "\n",
      "Reading in from: ../data/configs/32_lattice/separated_data/32_config_2.38.txt\n",
      "\n",
      "Reading in from: ../data/configs/32_lattice/separated_data/32_config_2.4.txt\n",
      "\n",
      "Reading in from: ../data/configs/32_lattice/separated_data/32_config_2.42.txt\n",
      "\n",
      "Reading in from: ../data/configs/32_lattice/separated_data/32_config_2.44.txt\n",
      "\n",
      "Reading in from: ../data/configs/32_lattice/separated_data/32_config_2.45.txt\n",
      "\n",
      "Reading in from: ../data/configs/32_lattice/separated_data/32_config_2.46.txt\n",
      "\n",
      "Reading in from: ../data/configs/32_lattice/separated_data/32_config_2.48.txt\n",
      "\n",
      "Reading in from: ../data/configs/32_lattice/separated_data/32_config_2.5.txt\n",
      "\n",
      "Reading in from: ../data/configs/32_lattice/separated_data/32_config_2.55.txt\n",
      "\n",
      "Reading in from: ../data/configs/32_lattice/separated_data/32_config_2.6.txt\n",
      "\n",
      "Reading in from: ../data/configs/32_lattice/separated_data/32_config_2.65.txt\n",
      "\n",
      "Reading in from: ../data/configs/32_lattice/separated_data/32_config_2.7.txt\n",
      "\n",
      "Reading in from: ../data/configs/32_lattice/separated_data/32_config_2.75.txt\n",
      "\n",
      "Reading in from: ../data/configs/32_lattice/separated_data/32_config_2.8.txt\n",
      "\n",
      "Reading in from: ../data/configs/32_lattice/separated_data/32_config_2.9.txt\n",
      "\n",
      "Reading in from: ../data/configs/32_lattice/separated_data/32_config_3.0.txt\n",
      "\n",
      "Reading in from: ../data/configs/32_lattice/separated_data/32_config_3.1.txt\n",
      "\n",
      "Reading in from: ../data/configs/32_lattice/separated_data/32_config_3.2.txt\n",
      "\n",
      "Reading in from: ../data/configs/32_lattice/separated_data/32_config_3.3.txt\n",
      "\n",
      "Reading in from: ../data/configs/32_lattice/separated_data/32_config_3.4.txt\n",
      "\n",
      "Reading in from: ../data/configs/32_lattice/separated_data/32_config_3.5.txt\n",
      "\n",
      "Reading in from: ../data/configs/32_lattice/separated_data/32_config_3.6.txt\n",
      "\n",
      "Reading in from: ../data/configs/32_lattice/separated_data/32_config_3.7.txt\n",
      "\n",
      "Reading in from: ../data/configs/32_lattice/separated_data/32_config_3.8.txt\n",
      "\n",
      "Reading in from: ../data/configs/32_lattice/separated_data/32_config_3.9.txt\n",
      "\n",
      "Reading in from: ../data/blocked_configs/32_lattice/double_bonds_0/32_config_1.0.txt\n",
      "\n",
      "Reading in from: ../data/blocked_configs/32_lattice/double_bonds_0/32_config_1.1.txt\n",
      "\n",
      "Reading in from: ../data/blocked_configs/32_lattice/double_bonds_0/32_config_1.2.txt\n",
      "\n",
      "Reading in from: ../data/blocked_configs/32_lattice/double_bonds_0/32_config_1.3.txt\n",
      "\n",
      "Reading in from: ../data/blocked_configs/32_lattice/double_bonds_0/32_config_1.4.txt\n",
      "\n",
      "Reading in from: ../data/blocked_configs/32_lattice/double_bonds_0/32_config_1.5.txt\n",
      "\n",
      "Reading in from: ../data/blocked_configs/32_lattice/double_bonds_0/32_config_1.6.txt\n",
      "\n",
      "Reading in from: ../data/blocked_configs/32_lattice/double_bonds_0/32_config_1.7.txt\n",
      "\n",
      "Reading in from: ../data/blocked_configs/32_lattice/double_bonds_0/32_config_1.8.txt\n",
      "\n",
      "Reading in from: ../data/blocked_configs/32_lattice/double_bonds_0/32_config_1.85.txt\n",
      "\n",
      "Reading in from: ../data/blocked_configs/32_lattice/double_bonds_0/32_config_1.9.txt\n",
      "\n",
      "Reading in from: ../data/blocked_configs/32_lattice/double_bonds_0/32_config_1.95.txt\n",
      "\n",
      "Reading in from: ../data/blocked_configs/32_lattice/double_bonds_0/32_config_2.0.txt\n",
      "\n",
      "Reading in from: ../data/blocked_configs/32_lattice/double_bonds_0/32_config_2.02.txt\n",
      "\n",
      "Reading in from: ../data/blocked_configs/32_lattice/double_bonds_0/32_config_2.04.txt\n",
      "\n",
      "Reading in from: ../data/blocked_configs/32_lattice/double_bonds_0/32_config_2.05.txt\n",
      "\n",
      "Reading in from: ../data/blocked_configs/32_lattice/double_bonds_0/32_config_2.06.txt\n",
      "\n",
      "Reading in from: ../data/blocked_configs/32_lattice/double_bonds_0/32_config_2.08.txt\n",
      "\n",
      "Reading in from: ../data/blocked_configs/32_lattice/double_bonds_0/32_config_2.1.txt\n",
      "\n",
      "Reading in from: ../data/blocked_configs/32_lattice/double_bonds_0/32_config_2.12.txt\n",
      "\n",
      "Reading in from: ../data/blocked_configs/32_lattice/double_bonds_0/32_config_2.14.txt\n",
      "\n",
      "Reading in from: ../data/blocked_configs/32_lattice/double_bonds_0/32_config_2.15.txt\n",
      "\n",
      "Reading in from: ../data/blocked_configs/32_lattice/double_bonds_0/32_config_2.16.txt\n",
      "\n",
      "Reading in from: ../data/blocked_configs/32_lattice/double_bonds_0/32_config_2.18.txt\n",
      "\n",
      "Reading in from: ../data/blocked_configs/32_lattice/double_bonds_0/32_config_2.2.txt\n",
      "\n",
      "Reading in from: ../data/blocked_configs/32_lattice/double_bonds_0/32_config_2.22.txt\n",
      "\n",
      "Reading in from: ../data/blocked_configs/32_lattice/double_bonds_0/32_config_2.24.txt\n",
      "\n",
      "Reading in from: ../data/blocked_configs/32_lattice/double_bonds_0/32_config_2.25.txt\n",
      "\n",
      "Reading in from: ../data/blocked_configs/32_lattice/double_bonds_0/32_config_2.26.txt\n",
      "\n",
      "Reading in from: ../data/blocked_configs/32_lattice/double_bonds_0/32_config_2.28.txt\n",
      "\n",
      "Reading in from: ../data/blocked_configs/32_lattice/double_bonds_0/32_config_2.3.txt\n",
      "\n",
      "Reading in from: ../data/blocked_configs/32_lattice/double_bonds_0/32_config_2.32.txt\n",
      "\n",
      "Reading in from: ../data/blocked_configs/32_lattice/double_bonds_0/32_config_2.34.txt\n",
      "\n",
      "Reading in from: ../data/blocked_configs/32_lattice/double_bonds_0/32_config_2.35.txt\n",
      "\n",
      "Reading in from: ../data/blocked_configs/32_lattice/double_bonds_0/32_config_2.36.txt\n",
      "\n",
      "Reading in from: ../data/blocked_configs/32_lattice/double_bonds_0/32_config_2.38.txt\n",
      "\n",
      "Reading in from: ../data/blocked_configs/32_lattice/double_bonds_0/32_config_2.4.txt\n",
      "\n",
      "Reading in from: ../data/blocked_configs/32_lattice/double_bonds_0/32_config_2.45.txt\n",
      "\n",
      "Reading in from: ../data/blocked_configs/32_lattice/double_bonds_0/32_config_2.5.txt\n",
      "\n",
      "Reading in from: ../data/blocked_configs/32_lattice/double_bonds_0/32_config_2.55.txt\n",
      "\n",
      "Reading in from: ../data/blocked_configs/32_lattice/double_bonds_0/32_config_2.6.txt\n",
      "\n"
     ]
    },
    {
     "name": "stdout",
     "output_type": "stream",
     "text": [
      "Reading in from: ../data/blocked_configs/32_lattice/double_bonds_0/32_config_2.65.txt\n",
      "\n",
      "Reading in from: ../data/blocked_configs/32_lattice/double_bonds_0/32_config_2.7.txt\n",
      "\n",
      "Reading in from: ../data/blocked_configs/32_lattice/double_bonds_0/32_config_2.75.txt\n",
      "\n",
      "Reading in from: ../data/blocked_configs/32_lattice/double_bonds_0/32_config_2.8.txt\n",
      "\n",
      "Reading in from: ../data/blocked_configs/32_lattice/double_bonds_0/32_config_2.9.txt\n",
      "\n",
      "Reading in from: ../data/blocked_configs/32_lattice/double_bonds_0/32_config_3.0.txt\n",
      "\n",
      "Reading in from: ../data/blocked_configs/32_lattice/double_bonds_0/32_config_3.1.txt\n",
      "\n",
      "Reading in from: ../data/blocked_configs/32_lattice/double_bonds_0/32_config_3.2.txt\n",
      "\n",
      "Reading in from: ../data/blocked_configs/32_lattice/double_bonds_0/32_config_3.3.txt\n",
      "\n",
      "Reading in from: ../data/blocked_configs/32_lattice/double_bonds_0/32_config_3.4.txt\n",
      "\n",
      "Reading in from: ../data/blocked_configs/32_lattice/double_bonds_0/32_config_3.5.txt\n",
      "\n",
      "Reading in from: ../data/blocked_configs/32_lattice/double_bonds_0/32_config_3.6.txt\n",
      "\n",
      "Reading in from: ../data/blocked_configs/32_lattice/double_bonds_0/32_config_3.7.txt\n",
      "\n",
      "Reading in from: ../data/blocked_configs/32_lattice/double_bonds_0/32_config_3.8.txt\n",
      "\n",
      "Reading in from: ../data/blocked_configs/32_lattice/double_bonds_0/32_config_3.9.txt\n",
      "\n"
     ]
    }
   ],
   "source": [
    "count_bonds32 = CountBonds(32, verbose=True, num_blocks=3)\n",
    "# 25m 26s num_blocks=5\n",
    "# 19m 32s num_blocks=3\n",
    "\n",
    "Nb32 = np.array([\n",
    "    (i[0], i[1]) for i in list(count_bonds32.bond_stats.values())\n",
    "])\n",
    "delta_Nb32 = np.array([\n",
    "    (i[2], i[3]) for i in list(count_bonds32.bond_stats.values())\n",
    "])\n",
    "Nb32_temps = np.array([\n",
    "    float(i) for i in list(count_bonds32.bond_stats.keys())\n",
    "])\n",
    "\n",
    "#########################\n",
    "#        BLOCKED        #\n",
    "#########################\n",
    "\n",
    "count_bonds32b = CountBonds(32, block_val=0, verbose=True, num_blocks=5)\n",
    "# 2m 32b1s using num_blocks=10\n",
    "\n",
    "Nb32b = np.array([\n",
    "    (i[0], i[1]) for i in list(count_bonds32b.bond_stats.values())\n",
    "])\n",
    "delta_Nb32b = np.array([\n",
    "    (i[2], i[3]) for i in list(count_bonds32b.bond_stats.values())\n",
    "])\n",
    "Nb32b_temps = np.array([\n",
    "    float(i) for i in list(count_bonds32b.bond_stats.keys())\n",
    "])"
   ]
  },
  {
   "cell_type": "markdown",
   "metadata": {
    "heading_collapsed": true
   },
   "source": [
    "## Principal Component Analysis $(\\lambda_1)$"
   ]
  },
  {
   "cell_type": "markdown",
   "metadata": {
    "hidden": true
   },
   "source": [
    "### L = 4"
   ]
  },
  {
   "cell_type": "code",
   "execution_count": 66,
   "metadata": {
    "ExecuteTime": {
     "end_time": "2018-01-12T22:17:03.669478Z",
     "start_time": "2018-01-12T22:14:05.518121Z"
    },
    "hidden": true
   },
   "outputs": [
    {
     "name": "stdout",
     "output_type": "stream",
     "text": [
      "Reading data from: ../data/configs/4_lattice/separated_data/4_config_1.0.txt\n",
      "Reading data from: ../data/configs/4_lattice/separated_data/4_config_1.1.txt\n",
      "Reading data from: ../data/configs/4_lattice/separated_data/4_config_1.2.txt\n",
      "Reading data from: ../data/configs/4_lattice/separated_data/4_config_1.3.txt\n",
      "Reading data from: ../data/configs/4_lattice/separated_data/4_config_1.4.txt\n",
      "Reading data from: ../data/configs/4_lattice/separated_data/4_config_1.5.txt\n",
      "Reading data from: ../data/configs/4_lattice/separated_data/4_config_1.6.txt\n",
      "Reading data from: ../data/configs/4_lattice/separated_data/4_config_1.7.txt\n",
      "Reading data from: ../data/configs/4_lattice/separated_data/4_config_1.8.txt\n",
      "Reading data from: ../data/configs/4_lattice/separated_data/4_config_1.9.txt\n",
      "Reading data from: ../data/configs/4_lattice/separated_data/4_config_2.0.txt\n",
      "Reading data from: ../data/configs/4_lattice/separated_data/4_config_2.05.txt\n",
      "Reading data from: ../data/configs/4_lattice/separated_data/4_config_2.1.txt\n",
      "Reading data from: ../data/configs/4_lattice/separated_data/4_config_2.15.txt\n",
      "Reading data from: ../data/configs/4_lattice/separated_data/4_config_2.2.txt\n",
      "Reading data from: ../data/configs/4_lattice/separated_data/4_config_2.25.txt\n",
      "Reading data from: ../data/configs/4_lattice/separated_data/4_config_2.3.txt\n",
      "Reading data from: ../data/configs/4_lattice/separated_data/4_config_2.35.txt\n",
      "Reading data from: ../data/configs/4_lattice/separated_data/4_config_2.4.txt\n",
      "Reading data from: ../data/configs/4_lattice/separated_data/4_config_2.45.txt\n",
      "Reading data from: ../data/configs/4_lattice/separated_data/4_config_2.5.txt\n",
      "Reading data from: ../data/configs/4_lattice/separated_data/4_config_2.6.txt\n",
      "Reading data from: ../data/configs/4_lattice/separated_data/4_config_2.7.txt\n",
      "Reading data from: ../data/configs/4_lattice/separated_data/4_config_2.8.txt\n",
      "Reading data from: ../data/configs/4_lattice/separated_data/4_config_2.9.txt\n",
      "Reading data from: ../data/configs/4_lattice/separated_data/4_config_3.0.txt\n",
      "Reading data from: ../data/configs/4_lattice/separated_data/4_config_3.1.txt\n",
      "Reading data from: ../data/configs/4_lattice/separated_data/4_config_3.2.txt\n",
      "Reading data from: ../data/configs/4_lattice/separated_data/4_config_3.3.txt\n",
      "Reading data from: ../data/configs/4_lattice/separated_data/4_config_3.4.txt\n",
      "Reading data from: ../data/blocked_configs/4_lattice/double_bonds_0/4_config_1.0.txt\n",
      "Reading data from: ../data/blocked_configs/4_lattice/double_bonds_0/4_config_1.1.txt\n",
      "Reading data from: ../data/blocked_configs/4_lattice/double_bonds_0/4_config_1.2.txt\n",
      "Reading data from: ../data/blocked_configs/4_lattice/double_bonds_0/4_config_1.3.txt\n",
      "Reading data from: ../data/blocked_configs/4_lattice/double_bonds_0/4_config_1.4.txt\n",
      "Reading data from: ../data/blocked_configs/4_lattice/double_bonds_0/4_config_1.5.txt\n",
      "Reading data from: ../data/blocked_configs/4_lattice/double_bonds_0/4_config_1.6.txt\n",
      "Reading data from: ../data/blocked_configs/4_lattice/double_bonds_0/4_config_1.7.txt\n",
      "Reading data from: ../data/blocked_configs/4_lattice/double_bonds_0/4_config_1.8.txt\n",
      "Reading data from: ../data/blocked_configs/4_lattice/double_bonds_0/4_config_1.9.txt\n",
      "Reading data from: ../data/blocked_configs/4_lattice/double_bonds_0/4_config_2.0.txt\n",
      "Reading data from: ../data/blocked_configs/4_lattice/double_bonds_0/4_config_2.05.txt\n",
      "Reading data from: ../data/blocked_configs/4_lattice/double_bonds_0/4_config_2.1.txt\n",
      "Reading data from: ../data/blocked_configs/4_lattice/double_bonds_0/4_config_2.15.txt\n",
      "Reading data from: ../data/blocked_configs/4_lattice/double_bonds_0/4_config_2.2.txt\n",
      "Reading data from: ../data/blocked_configs/4_lattice/double_bonds_0/4_config_2.25.txt\n",
      "Reading data from: ../data/blocked_configs/4_lattice/double_bonds_0/4_config_2.3.txt\n",
      "Reading data from: ../data/blocked_configs/4_lattice/double_bonds_0/4_config_2.35.txt\n",
      "Reading data from: ../data/blocked_configs/4_lattice/double_bonds_0/4_config_2.4.txt\n",
      "Reading data from: ../data/blocked_configs/4_lattice/double_bonds_0/4_config_2.45.txt\n",
      "Reading data from: ../data/blocked_configs/4_lattice/double_bonds_0/4_config_2.5.txt\n",
      "Reading data from: ../data/blocked_configs/4_lattice/double_bonds_0/4_config_2.6.txt\n",
      "Reading data from: ../data/blocked_configs/4_lattice/double_bonds_0/4_config_2.7.txt\n",
      "Reading data from: ../data/blocked_configs/4_lattice/double_bonds_0/4_config_2.8.txt\n",
      "Reading data from: ../data/blocked_configs/4_lattice/double_bonds_0/4_config_2.9.txt\n",
      "Reading data from: ../data/blocked_configs/4_lattice/double_bonds_0/4_config_3.0.txt\n",
      "Reading data from: ../data/blocked_configs/4_lattice/double_bonds_0/4_config_3.1.txt\n",
      "Reading data from: ../data/blocked_configs/4_lattice/double_bonds_0/4_config_3.2.txt\n",
      "Reading data from: ../data/blocked_configs/4_lattice/double_bonds_0/4_config_3.3.txt\n",
      "Reading data from: ../data/blocked_configs/4_lattice/double_bonds_0/4_config_3.4.txt\n"
     ]
    }
   ],
   "source": [
    "pca4 = PrincipalComponent(4, num_blocks=5, verbose=True)\n",
    "# 1m 46.4 s with num_blocks = 10, 20k lines\n",
    "# 49.5s with num_blocks = 5, 20k lines\n",
    "\n",
    "pca4_temps = [float(i) for i in list(pca4._eig_vals.keys())]\n",
    "pca4_vals = [i[0][0] for i in list(pca4._eig_vals.values())]\n",
    "pca4_err = list(pca4._err.values())\n",
    "\n",
    "#########################\n",
    "#        BLOCKED        #\n",
    "#########################\n",
    "pca4b = PrincipalComponent(4, block_val=0, num_blocks=5, verbose=True)\n",
    "# 1m 46.4 s with num_blocks = 10, 20k lines\n",
    "# 49.5s with num_blocks = 5, 20k lines\n",
    "\n",
    "pca4b_temps = [float(i) for i in list(pca4b._eig_vals.keys())]\n",
    "pca4b_vals = [i[0][0] for i in list(pca4b._eig_vals.values())]\n",
    "pca4b_err = list(pca4b._err.values())"
   ]
  },
  {
   "cell_type": "markdown",
   "metadata": {
    "hidden": true
   },
   "source": [
    "### L = 8"
   ]
  },
  {
   "cell_type": "code",
   "execution_count": null,
   "metadata": {
    "ExecuteTime": {
     "start_time": "2018-01-12T21:30:08.364Z"
    },
    "hidden": true
   },
   "outputs": [
    {
     "name": "stdout",
     "output_type": "stream",
     "text": [
      "Reading data from: ../data/configs/8_lattice/separated_data/8_config_1.0.txt\n",
      "Reading data from: ../data/configs/8_lattice/separated_data/8_config_1.1.txt\n",
      "Reading data from: ../data/configs/8_lattice/separated_data/8_config_1.2.txt\n",
      "Reading data from: ../data/configs/8_lattice/separated_data/8_config_1.3.txt\n",
      "Reading data from: ../data/configs/8_lattice/separated_data/8_config_1.4.txt\n",
      "Reading data from: ../data/configs/8_lattice/separated_data/8_config_1.5.txt\n",
      "Reading data from: ../data/configs/8_lattice/separated_data/8_config_1.6.txt\n",
      "Reading data from: ../data/configs/8_lattice/separated_data/8_config_1.7.txt\n",
      "Reading data from: ../data/configs/8_lattice/separated_data/8_config_1.8.txt\n",
      "Reading data from: ../data/configs/8_lattice/separated_data/8_config_1.85.txt\n",
      "Reading data from: ../data/configs/8_lattice/separated_data/8_config_1.9.txt\n",
      "Reading data from: ../data/configs/8_lattice/separated_data/8_config_1.95.txt\n",
      "Reading data from: ../data/configs/8_lattice/separated_data/8_config_2.0.txt\n",
      "Reading data from: ../data/configs/8_lattice/separated_data/8_config_2.02.txt\n",
      "Reading data from: ../data/configs/8_lattice/separated_data/8_config_2.04.txt\n",
      "Reading data from: ../data/configs/8_lattice/separated_data/8_config_2.05.txt\n",
      "Reading data from: ../data/configs/8_lattice/separated_data/8_config_2.06.txt\n",
      "Reading data from: ../data/configs/8_lattice/separated_data/8_config_2.08.txt\n",
      "Reading data from: ../data/configs/8_lattice/separated_data/8_config_2.1.txt\n",
      "Reading data from: ../data/configs/8_lattice/separated_data/8_config_2.12.txt\n",
      "Reading data from: ../data/configs/8_lattice/separated_data/8_config_2.14.txt\n",
      "Reading data from: ../data/configs/8_lattice/separated_data/8_config_2.15.txt\n",
      "Reading data from: ../data/configs/8_lattice/separated_data/8_config_2.16.txt\n",
      "Reading data from: ../data/configs/8_lattice/separated_data/8_config_2.18.txt\n",
      "Reading data from: ../data/configs/8_lattice/separated_data/8_config_2.2.txt\n",
      "Reading data from: ../data/configs/8_lattice/separated_data/8_config_2.22.txt\n",
      "Reading data from: ../data/configs/8_lattice/separated_data/8_config_2.24.txt\n",
      "Reading data from: ../data/configs/8_lattice/separated_data/8_config_2.25.txt\n",
      "Reading data from: ../data/configs/8_lattice/separated_data/8_config_2.26.txt\n",
      "Reading data from: ../data/configs/8_lattice/separated_data/8_config_2.28.txt\n",
      "Reading data from: ../data/configs/8_lattice/separated_data/8_config_2.3.txt\n",
      "Reading data from: ../data/configs/8_lattice/separated_data/8_config_2.32.txt\n",
      "Reading data from: ../data/configs/8_lattice/separated_data/8_config_2.34.txt\n",
      "Reading data from: ../data/configs/8_lattice/separated_data/8_config_2.35.txt\n",
      "Reading data from: ../data/configs/8_lattice/separated_data/8_config_2.36.txt\n",
      "Reading data from: ../data/configs/8_lattice/separated_data/8_config_2.38.txt\n",
      "Reading data from: ../data/configs/8_lattice/separated_data/8_config_2.4.txt\n",
      "Reading data from: ../data/configs/8_lattice/separated_data/8_config_2.45.txt\n",
      "Reading data from: ../data/configs/8_lattice/separated_data/8_config_2.5.txt\n",
      "Reading data from: ../data/configs/8_lattice/separated_data/8_config_2.55.txt\n",
      "Reading data from: ../data/configs/8_lattice/separated_data/8_config_2.6.txt\n",
      "Reading data from: ../data/configs/8_lattice/separated_data/8_config_2.65.txt\n",
      "Reading data from: ../data/configs/8_lattice/separated_data/8_config_2.7.txt\n",
      "Reading data from: ../data/configs/8_lattice/separated_data/8_config_2.75.txt\n",
      "Reading data from: ../data/configs/8_lattice/separated_data/8_config_2.8.txt\n",
      "Reading data from: ../data/configs/8_lattice/separated_data/8_config_2.9.txt\n",
      "Reading data from: ../data/configs/8_lattice/separated_data/8_config_3.0.txt\n",
      "Reading data from: ../data/configs/8_lattice/separated_data/8_config_3.1.txt\n",
      "Reading data from: ../data/configs/8_lattice/separated_data/8_config_3.2.txt\n",
      "Reading data from: ../data/configs/8_lattice/separated_data/8_config_3.3.txt\n",
      "Reading data from: ../data/configs/8_lattice/separated_data/8_config_3.4.txt\n",
      "Reading data from: ../data/configs/8_lattice/separated_data/8_config_3.5.txt\n",
      "Reading data from: ../data/configs/8_lattice/separated_data/8_config_3.6.txt\n",
      "Reading data from: ../data/configs/8_lattice/separated_data/8_config_3.7.txt\n",
      "Reading data from: ../data/configs/8_lattice/separated_data/8_config_3.8.txt\n",
      "Reading data from: ../data/configs/8_lattice/separated_data/8_config_3.9.txt\n",
      "Reading data from: ../data/blocked_configs/8_lattice/double_bonds_0/8_config_1.0.txt\n",
      "Reading data from: ../data/blocked_configs/8_lattice/double_bonds_0/8_config_1.1.txt\n",
      "Reading data from: ../data/blocked_configs/8_lattice/double_bonds_0/8_config_1.2.txt\n",
      "Reading data from: ../data/blocked_configs/8_lattice/double_bonds_0/8_config_1.3.txt\n",
      "Reading data from: ../data/blocked_configs/8_lattice/double_bonds_0/8_config_1.4.txt\n",
      "Reading data from: ../data/blocked_configs/8_lattice/double_bonds_0/8_config_1.5.txt\n",
      "Reading data from: ../data/blocked_configs/8_lattice/double_bonds_0/8_config_1.6.txt\n",
      "Reading data from: ../data/blocked_configs/8_lattice/double_bonds_0/8_config_1.7.txt\n",
      "Reading data from: ../data/blocked_configs/8_lattice/double_bonds_0/8_config_1.8.txt\n",
      "Reading data from: ../data/blocked_configs/8_lattice/double_bonds_0/8_config_1.85.txt\n",
      "Reading data from: ../data/blocked_configs/8_lattice/double_bonds_0/8_config_1.9.txt\n",
      "Reading data from: ../data/blocked_configs/8_lattice/double_bonds_0/8_config_1.95.txt\n",
      "Reading data from: ../data/blocked_configs/8_lattice/double_bonds_0/8_config_2.0.txt\n",
      "Reading data from: ../data/blocked_configs/8_lattice/double_bonds_0/8_config_2.05.txt\n",
      "Reading data from: ../data/blocked_configs/8_lattice/double_bonds_0/8_config_2.1.txt\n",
      "Reading data from: ../data/blocked_configs/8_lattice/double_bonds_0/8_config_2.15.txt\n",
      "Reading data from: ../data/blocked_configs/8_lattice/double_bonds_0/8_config_2.2.txt\n",
      "Reading data from: ../data/blocked_configs/8_lattice/double_bonds_0/8_config_2.25.txt\n",
      "Reading data from: ../data/blocked_configs/8_lattice/double_bonds_0/8_config_2.3.txt\n",
      "Reading data from: ../data/blocked_configs/8_lattice/double_bonds_0/8_config_2.35.txt\n",
      "Reading data from: ../data/blocked_configs/8_lattice/double_bonds_0/8_config_2.4.txt\n",
      "Reading data from: ../data/blocked_configs/8_lattice/double_bonds_0/8_config_2.45.txt\n",
      "Reading data from: ../data/blocked_configs/8_lattice/double_bonds_0/8_config_2.5.txt\n",
      "Reading data from: ../data/blocked_configs/8_lattice/double_bonds_0/8_config_2.55.txt\n",
      "Reading data from: ../data/blocked_configs/8_lattice/double_bonds_0/8_config_2.6.txt\n",
      "Reading data from: ../data/blocked_configs/8_lattice/double_bonds_0/8_config_2.65.txt\n",
      "Reading data from: ../data/blocked_configs/8_lattice/double_bonds_0/8_config_2.7.txt\n",
      "Reading data from: ../data/blocked_configs/8_lattice/double_bonds_0/8_config_2.75.txt\n",
      "Reading data from: ../data/blocked_configs/8_lattice/double_bonds_0/8_config_2.8.txt\n",
      "Reading data from: ../data/blocked_configs/8_lattice/double_bonds_0/8_config_2.9.txt\n",
      "Reading data from: ../data/blocked_configs/8_lattice/double_bonds_0/8_config_3.0.txt\n",
      "Reading data from: ../data/blocked_configs/8_lattice/double_bonds_0/8_config_3.1.txt\n",
      "Reading data from: ../data/blocked_configs/8_lattice/double_bonds_0/8_config_3.2.txt\n",
      "Reading data from: ../data/blocked_configs/8_lattice/double_bonds_0/8_config_3.3.txt\n",
      "Reading data from: ../data/blocked_configs/8_lattice/double_bonds_0/8_config_3.4.txt\n",
      "Reading data from: ../data/blocked_configs/8_lattice/double_bonds_0/8_config_3.5.txt\n",
      "Reading data from: ../data/blocked_configs/8_lattice/double_bonds_0/8_config_3.6.txt\n",
      "Reading data from: ../data/blocked_configs/8_lattice/double_bonds_0/8_config_3.7.txt\n",
      "Reading data from: ../data/blocked_configs/8_lattice/double_bonds_0/8_config_3.8.txt\n",
      "Reading data from: ../data/blocked_configs/8_lattice/double_bonds_0/8_config_3.9.txt\n"
     ]
    }
   ],
   "source": [
    "pca8 = PrincipalComponent(8, num_blocks=5, verbose=True)\n",
    "# 3m 5s with num_blocks=10, 20k lines\n",
    "# 38.3 s with num_blocks=10, 10k lines\n",
    "\n",
    "pca8_temps = [float(i) for i in list(pca8._eig_vals.keys())]\n",
    "pca8_vals = [i[0][0] for i in list(pca8._eig_vals.values())]\n",
    "pca8_err = list(pca8._err.values())\n",
    "\n",
    "#########################\n",
    "#        BLOCKED        #\n",
    "#########################\n",
    "pca8b = PrincipalComponent(8, block_val=0, num_blocks=5, verbose=True)\n",
    "# 1m 86.8 s with num_blocks = 10, 20k lines\n",
    "# 89.5s with num_blocks = 5, 20k lines\n",
    "\n",
    "pca8b_temps = [float(i) for i in list(pca8b._eig_vals.keys())]\n",
    "pca8b_vals = [i[0][0] for i in list(pca8b._eig_vals.values())]\n",
    "pca8b_err = list(pca8b._err.values())"
   ]
  },
  {
   "cell_type": "markdown",
   "metadata": {
    "hidden": true
   },
   "source": [
    "### L = 16"
   ]
  },
  {
   "cell_type": "code",
   "execution_count": null,
   "metadata": {
    "ExecuteTime": {
     "start_time": "2018-01-12T21:30:09.513Z"
    },
    "hidden": true,
    "scrolled": true
   },
   "outputs": [
    {
     "name": "stdout",
     "output_type": "stream",
     "text": [
      "Reading data from: ../data/configs/16_lattice/separated_data/16_config_1.0.txt\n",
      "Reading data from: ../data/configs/16_lattice/separated_data/16_config_1.1.txt\n",
      "Reading data from: ../data/configs/16_lattice/separated_data/16_config_1.2.txt\n",
      "Reading data from: ../data/configs/16_lattice/separated_data/16_config_1.3.txt\n",
      "Reading data from: ../data/configs/16_lattice/separated_data/16_config_1.4.txt\n",
      "Reading data from: ../data/configs/16_lattice/separated_data/16_config_1.5.txt\n",
      "Reading data from: ../data/configs/16_lattice/separated_data/16_config_1.6.txt\n",
      "Reading data from: ../data/configs/16_lattice/separated_data/16_config_1.7.txt\n",
      "Reading data from: ../data/configs/16_lattice/separated_data/16_config_1.8.txt\n",
      "Reading data from: ../data/configs/16_lattice/separated_data/16_config_1.85.txt\n",
      "Reading data from: ../data/configs/16_lattice/separated_data/16_config_1.9.txt\n",
      "Reading data from: ../data/configs/16_lattice/separated_data/16_config_1.95.txt\n"
     ]
    }
   ],
   "source": [
    "pca16 = PrincipalComponent(16, num_blocks=5, verbose=True)\n",
    "# 10m 6s with num_blocks=10, 20k lines\n",
    "# 2m 42s with num_blocks=5, 5\n",
    "\n",
    "pca16_temps = [float(i) for i in list(pca16._eig_vals.keys())]\n",
    "pca16_vals = [i[0][0] for i in list(pca16._eig_vals.values())]\n",
    "pca16_err = list(pca16._err.values())\n",
    "\n",
    "#########################\n",
    "#        BLOCKED        #\n",
    "#########################\n",
    "pca16b = PrincipalComponent(16, block_val=0, num_blocks=5, verbose=True)\n",
    "# 1m 166.16 s with num_blocks = 10, 20k lines\n",
    "# 169.5s with num_blocks = 5, 20k lines\n",
    "\n",
    "pca16b_temps = [float(i) for i in list(pca16b._eig_vals.keys())]\n",
    "pca16b_vals = [i[0][0] for i in list(pca16b._eig_vals.values())]\n",
    "pca16b_err = list(pca16b._err.values())"
   ]
  },
  {
   "cell_type": "markdown",
   "metadata": {
    "hidden": true
   },
   "source": [
    "### L = 32"
   ]
  },
  {
   "cell_type": "code",
   "execution_count": null,
   "metadata": {
    "ExecuteTime": {
     "start_time": "2018-01-12T21:30:10.746Z"
    },
    "hidden": true,
    "scrolled": false
   },
   "outputs": [],
   "source": [
    "pca32 = PrincipalComponent(32, num_blocks=5)\n",
    "# 41m 33s with num_blocks=10, 20k lines\n",
    "\n",
    "pca32_temps = [float(i) for i in list(pca32._eig_vals.keys())]\n",
    "pca32_vals = [i[0][0] for i in list(pca32._eig_vals.values())]\n",
    "pca32_err = list(pca32._err.values())\n",
    "\n",
    "#########################\n",
    "#        BLOCKED        #\n",
    "#########################\n",
    "pca32b = PrincipalComponent(32, block_val=0, num_blocks=5, verbose=True)\n",
    "# 1m 326.32 s with num_blocks = 10, 20k lines\n",
    "# 329.5s with num_blocks = 5, 20k lines\n",
    "\n",
    "pca32b_temps = [float(i) for i in list(pca32b._eig_vals.keys())]\n",
    "pca32b_vals = [i[0][0] for i in list(pca32b._eig_vals.values())]\n",
    "pca32b_err = list(pca32b._err.values())"
   ]
  },
  {
   "cell_type": "markdown",
   "metadata": {
    "heading_collapsed": true
   },
   "source": [
    "# PLOTS"
   ]
  },
  {
   "cell_type": "markdown",
   "metadata": {
    "heading_collapsed": true,
    "hidden": true
   },
   "source": [
    "## Energy"
   ]
  },
  {
   "cell_type": "code",
   "execution_count": 34,
   "metadata": {
    "ExecuteTime": {
     "end_time": "2018-01-12T20:52:54.082179Z",
     "start_time": "2018-01-12T20:52:48.228426Z"
    },
    "code_folding": [],
    "hidden": true,
    "scrolled": false
   },
   "outputs": [
    {
     "data": {
      "text/plain": [
       "<matplotlib.lines.Line2D at 0x10f9fba58>"
      ]
     },
     "execution_count": 34,
     "metadata": {},
     "output_type": "execute_result"
    },
    {
     "data": {
      "text/plain": [
       "<Container object of 3 artists>"
      ]
     },
     "execution_count": 34,
     "metadata": {},
     "output_type": "execute_result"
    },
    {
     "data": {
      "text/plain": [
       "<Container object of 3 artists>"
      ]
     },
     "execution_count": 34,
     "metadata": {},
     "output_type": "execute_result"
    },
    {
     "data": {
      "text/plain": [
       "<Container object of 3 artists>"
      ]
     },
     "execution_count": 34,
     "metadata": {},
     "output_type": "execute_result"
    },
    {
     "data": {
      "text/plain": [
       "<Container object of 3 artists>"
      ]
     },
     "execution_count": 34,
     "metadata": {},
     "output_type": "execute_result"
    },
    {
     "data": {
      "text/plain": [
       "<matplotlib.legend.Legend at 0x10f410ba8>"
      ]
     },
     "execution_count": 34,
     "metadata": {},
     "output_type": "execute_result"
    },
    {
     "data": {
      "text/plain": [
       "(1.0, 3.5)"
      ]
     },
     "execution_count": 34,
     "metadata": {},
     "output_type": "execute_result"
    },
    {
     "data": {
      "text/plain": [
       "Text(0.5,0,'$T$')"
      ]
     },
     "execution_count": 34,
     "metadata": {},
     "output_type": "execute_result"
    },
    {
     "data": {
      "text/plain": [
       "Text(0,0.5,'$\\\\langle E\\\\rangle$')"
      ]
     },
     "execution_count": 34,
     "metadata": {},
     "output_type": "execute_result"
    },
    {
     "name": "stdout",
     "output_type": "stream",
     "text": [
      "Saving file to: ../plots/energy/energy_all_56.png\n"
     ]
    },
    {
     "data": {
      "image/png": "[encoded data removed]",
      "text/plain": [
       "<matplotlib.figure.Figure at 0x10f9fb860>"
      ]
     },
     "metadata": {},
     "output_type": "display_data"
    }
   ],
   "source": [
    "fig, ax = plt.subplots()\n",
    "ax.axvline(x=Tc, linestyle='--', color='k')#, label='$T = T_c$')\n",
    "ax.errorbar(specific_heat32._energy_temps, specific_heat32._avg_energy,\n",
    "            yerr=specific_heat32._energy_error,\n",
    "            marker='s', color='C0',\n",
    "            markersize=5,  markeredgecolor='#1f1b93',\n",
    "            ls='-', fillstyle='full', lw=2.,\n",
    "            elinewidth=2.,  alpha=1.0,\n",
    "            capsize=2, capthick=2,\n",
    "            label='L=32')\n",
    "            \n",
    "ax.errorbar(specific_heat16._energy_temps, specific_heat16._avg_energy,\n",
    "            yerr=specific_heat16._energy_error,\n",
    "            marker='H', color='#65e41d',\n",
    "            markeredgecolor='#00B000', markersize=5., \n",
    "            lw=2., elinewidth=2.,  alpha=1., ls='-',\n",
    "            fillstyle='full', capsize=2, capthick=2, \n",
    "            label='L=16')\n",
    "ax.errorbar(specific_heat8._energy_temps, specific_heat8._avg_energy,\n",
    "            yerr=specific_heat8._energy_error,\n",
    "            marker='d', fillstyle='full', color='#be67ff',\n",
    "            markeredgecolor='#833c9f', markersize=5, \n",
    "            lw=2., elinewidth=2.,  alpha=1., ls='-',\n",
    "            capsize=2, capthick=2, \n",
    "            label='L=8')\n",
    "ax.errorbar(specific_heat4._energy_temps, specific_heat4._avg_energy,\n",
    "            yerr=specific_heat4._energy_error,\n",
    "            color='C1', markeredgecolor='#ed4c18', marker='v', \n",
    "            fillstyle='full', markersize=5,  lw=2., elinewidth=2., \n",
    "            alpha=1., capsize=2, capthick=2,  ls='-',\n",
    "            label='L=4')\n",
    "\n",
    "ax.legend(loc='best', markerscale=1.5, fontsize=14)#, frameon=False)\n",
    "ax.set_xlim(1., 3.5)\n",
    "ax.set_xlabel('$T$', fontsize=16)\n",
    "ax.set_ylabel(r\"$\\langle E\\rangle$\", fontsize=16)\n",
    "\n",
    "out_dir = '../plots/energy/'\n",
    "if not os.path.exists(out_dir):\n",
    "    os.makedirs(out_dir)\n",
    "existing = [int(i.split('_')[-1].rstrip('.png')) for i in os.listdir(out_dir) \n",
    "            if i.endswith('.png')]\n",
    "try:\n",
    "    latest_num = max(existing)\n",
    "except ValueError:\n",
    "    latest_num = 0\n",
    "new_num = latest_num + 1\n",
    "out_file = out_dir + 'energy_all_{}.png'.format(new_num)\n",
    "print(\"Saving file to: {}\".format(out_file))\n",
    "plt.savefig(out_file, dpi=600, bbox_inches='tight')\n",
    "plt.show()"
   ]
  },
  {
   "cell_type": "markdown",
   "metadata": {
    "heading_collapsed": true,
    "hidden": true
   },
   "source": [
    "## Specific Heat"
   ]
  },
  {
   "cell_type": "code",
   "execution_count": 26,
   "metadata": {
    "ExecuteTime": {
     "end_time": "2018-01-12T20:49:12.451234Z",
     "start_time": "2018-01-12T20:49:06.983346Z"
    },
    "code_folding": [
     12,
     21,
     29
    ],
    "hidden": true,
    "scrolled": false
   },
   "outputs": [
    {
     "data": {
      "text/plain": [
       "<matplotlib.lines.Line2D at 0x173b17fd0>"
      ]
     },
     "execution_count": 26,
     "metadata": {},
     "output_type": "execute_result"
    },
    {
     "data": {
      "text/plain": [
       "<Container object of 3 artists>"
      ]
     },
     "execution_count": 26,
     "metadata": {},
     "output_type": "execute_result"
    },
    {
     "data": {
      "text/plain": [
       "<Container object of 3 artists>"
      ]
     },
     "execution_count": 26,
     "metadata": {},
     "output_type": "execute_result"
    },
    {
     "data": {
      "text/plain": [
       "<Container object of 3 artists>"
      ]
     },
     "execution_count": 26,
     "metadata": {},
     "output_type": "execute_result"
    },
    {
     "data": {
      "text/plain": [
       "<Container object of 3 artists>"
      ]
     },
     "execution_count": 26,
     "metadata": {},
     "output_type": "execute_result"
    },
    {
     "data": {
      "text/plain": [
       "<matplotlib.legend.Legend at 0x1162567f0>"
      ]
     },
     "execution_count": 26,
     "metadata": {},
     "output_type": "execute_result"
    },
    {
     "data": {
      "text/plain": [
       "(1.25, 3.25)"
      ]
     },
     "execution_count": 26,
     "metadata": {},
     "output_type": "execute_result"
    },
    {
     "data": {
      "text/plain": [
       "Text(0.5,0,'$T$')"
      ]
     },
     "execution_count": 26,
     "metadata": {},
     "output_type": "execute_result"
    },
    {
     "data": {
      "text/plain": [
       "Text(0,0.5,'$C_V/L^2$')"
      ]
     },
     "execution_count": 26,
     "metadata": {},
     "output_type": "execute_result"
    },
    {
     "name": "stdout",
     "output_type": "stream",
     "text": [
      "Saving file to: ../plots/specific_heat/specific_heat_all_43.png\n"
     ]
    },
    {
     "data": {
      "image/png": "[encoded data removed]",
      "text/plain": [
       "<matplotlib.figure.Figure at 0x107256240>"
      ]
     },
     "metadata": {},
     "output_type": "display_data"
    }
   ],
   "source": [
    "fig, ax = plt.subplots()\n",
    "\n",
    "ax.axvline(x=Tc, linestyle='--', color='k')#, label='$T = T_c$')\n",
    "ax.errorbar(specific_heat32._spec_heat_temps, specific_heat32._spec_heat,\n",
    "            yerr=specific_heat32._spec_heat_err,\n",
    "            marker='s', color='C0',\n",
    "            markersize=5,  markeredgecolor='#1f1b93',\n",
    "            ls='-', fillstyle='full', lw=2.,\n",
    "            elinewidth=2., capsize=2., capthick=2.,\n",
    "            alpha=1.0, label='L=32')\n",
    "            \n",
    "#ax.plot(specific_heat16._specific_heat_temps, specific_heat16._specific_heat,\n",
    "ax.errorbar(specific_heat16._spec_heat_temps, specific_heat16._spec_heat,\n",
    "            yerr=specific_heat16._spec_heat_err,\n",
    "            marker='H', color='#65e41d',\n",
    "            markeredgecolor='#00B000', markersize=5., \n",
    "            lw=2., alpha=0.85, ls='-',\n",
    "            elinewidth=2., capsize=2., capthick=2.,\n",
    "            fillstyle='full', label='L=16')\n",
    "\n",
    "#ax.plot(specific_heat8._specific_heat_temps, specific_heat8._specific_heat,\n",
    "ax.errorbar(specific_heat8._spec_heat_temps, specific_heat8._spec_heat,\n",
    "            yerr=specific_heat8._spec_heat_err,\n",
    "            marker='d', fillstyle='full', color='#be67ff',\n",
    "            markeredgecolor='#833c9f', markersize=5, \n",
    "            elinewidth=2., capsize=2., capthick=2.,\n",
    "            lw=2., alpha=0.8, ls='-', label='L=8')\n",
    "\n",
    "#ax.plot(specific_heat4._specific_heat_temps, specific_heat4._specific_heat,\n",
    "ax.errorbar(specific_heat4._spec_heat_temps, specific_heat4._spec_heat,\n",
    "            yerr=specific_heat4._spec_heat_err,\n",
    "            color='C1', markeredgecolor='#ed4c18', marker='v', \n",
    "            fillstyle='full', markersize=5,  lw=2., \n",
    "            elinewidth=2., capsize=2., capthick=2.,\n",
    "            alpha=0.75, ls='-', label='L=4')\n",
    "\n",
    "ax.legend(loc='best', markerscale=1.5, fontsize=14)#, frameon=False)\n",
    "ax.set_xlim(1.25, 3.25)\n",
    "ax.set_xlabel('$T$', fontsize=16)\n",
    "ax.set_ylabel('$C_V/L^2$', fontsize=16)\n",
    "#plt.savefig('plots/specific_heat_all.png', dpi=600, bbox_inches='tight')\n",
    "out_dir = '../plots/specific_heat/'\n",
    "if not os.path.exists(out_dir):\n",
    "    os.makedirs(out_dir)\n",
    "existing = [int(i.split('_')[-1].rstrip('.png')) for i in os.listdir(out_dir) \n",
    "            if i.endswith('.png')]\n",
    "try:\n",
    "    latest_num = max(existing)\n",
    "except ValueError:\n",
    "    latest_num = 0\n",
    "new_num = latest_num + 1\n",
    "out_file = out_dir + 'specific_heat_all_{}.png'.format(new_num)\n",
    "print(\"Saving file to: {}\".format(out_file))\n",
    "plt.savefig(out_file, dpi=600, bbox_inches='tight')\n",
    "plt.show()"
   ]
  },
  {
   "cell_type": "markdown",
   "metadata": {
    "heading_collapsed": true,
    "hidden": true
   },
   "source": [
    "## $\\langle \\Delta_{N_b}^2\\rangle$ Plots"
   ]
  },
  {
   "cell_type": "markdown",
   "metadata": {
    "heading_collapsed": true,
    "hidden": true
   },
   "source": [
    "### $\\langle \\Delta_{N_b}^2\\rangle$"
   ]
  },
  {
   "cell_type": "code",
   "execution_count": 35,
   "metadata": {
    "ExecuteTime": {
     "end_time": "2018-01-12T20:57:30.649316Z",
     "start_time": "2018-01-12T20:57:24.974128Z"
    },
    "code_folding": [
     4,
     13,
     22,
     32
    ],
    "hidden": true,
    "run_control": {
     "marked": true
    },
    "scrolled": false
   },
   "outputs": [
    {
     "data": {
      "text/plain": [
       "<matplotlib.lines.Line2D at 0x11040f780>"
      ]
     },
     "execution_count": 35,
     "metadata": {},
     "output_type": "execute_result"
    },
    {
     "data": {
      "text/plain": [
       "<Container object of 3 artists>"
      ]
     },
     "execution_count": 35,
     "metadata": {},
     "output_type": "execute_result"
    },
    {
     "data": {
      "text/plain": [
       "<Container object of 3 artists>"
      ]
     },
     "execution_count": 35,
     "metadata": {},
     "output_type": "execute_result"
    },
    {
     "data": {
      "text/plain": [
       "<Container object of 3 artists>"
      ]
     },
     "execution_count": 35,
     "metadata": {},
     "output_type": "execute_result"
    },
    {
     "data": {
      "text/plain": [
       "<Container object of 3 artists>"
      ]
     },
     "execution_count": 35,
     "metadata": {},
     "output_type": "execute_result"
    },
    {
     "data": {
      "text/plain": [
       "<matplotlib.legend.Legend at 0x10f7e4390>"
      ]
     },
     "execution_count": 35,
     "metadata": {},
     "output_type": "execute_result"
    },
    {
     "data": {
      "text/plain": [
       "(1.0, 3.5)"
      ]
     },
     "execution_count": 35,
     "metadata": {},
     "output_type": "execute_result"
    },
    {
     "data": {
      "text/plain": [
       "Text(0.5,0,'$T$')"
      ]
     },
     "execution_count": 35,
     "metadata": {},
     "output_type": "execute_result"
    },
    {
     "data": {
      "text/plain": [
       "Text(0,0.5,'$\\\\langle \\\\Delta_{N_b}^2\\\\rangle$')"
      ]
     },
     "execution_count": 35,
     "metadata": {},
     "output_type": "execute_result"
    },
    {
     "name": "stdout",
     "output_type": "stream",
     "text": [
      "Saving file to: ../plots/bond_stats/delta_Nb_all_47.png\n"
     ]
    },
    {
     "data": {
      "image/png": "[encoded data removed]",
      "text/plain": [
       "<matplotlib.figure.Figure at 0x11040f6d8>"
      ]
     },
     "metadata": {},
     "output_type": "display_data"
    }
   ],
   "source": [
    "fig, ax = plt.subplots()\n",
    "\n",
    "ax.axvline(x=Tc, linestyle='--', color='k')#, label='$T = T_c$')\n",
    "ax.errorbar(Nb32_temps, delta_Nb32[:,0]/(2*32*32), \n",
    "            yerr=delta_Nb32[:,1]/(2*32*32),\n",
    "            marker='s', color='C0', alpha=1.,\n",
    "            markersize=5,  markeredgecolor='#1f1b93',\n",
    "            ls='-', fillstyle='full', lw=2,\n",
    "            elinewidth=2.,  capsize=2, capthick=2,\n",
    "            label='L=32')\n",
    "            \n",
    "ax.errorbar(Nb16_temps, delta_Nb16[:,0]/(2*16*16), \n",
    "            yerr=delta_Nb16[:,1]/(2*16*16),\n",
    "            marker='H', color='#65e41d',\n",
    "            markeredgecolor='#00B000', markersize=5., \n",
    "            lw=2, alpha=1., ls='-', fillstyle='full',\n",
    "            elinewidth=2.,  capsize=2, capthick=2,\n",
    "            label='L=16')\n",
    "ax.errorbar(Nb8_temps, delta_Nb8[:,0]/(2*8*8),\n",
    "            yerr=delta_Nb8[:,1]/(2*8*8),\n",
    "            marker='d', fillstyle='full', color='#be67ff',\n",
    "            markeredgecolor='#833c9f', markersize=5, \n",
    "            lw=2, alpha=1., ls='-',\n",
    "            elinewidth=2.,  capsize=2, capthick=2,\n",
    "            label='L=8')\n",
    "ax.errorbar(Nb4_temps, delta_Nb4[:,0]/(2*4*4), \n",
    "            yerr=delta_Nb4[:,1]/(2*4*4),\n",
    "            color='C1', markeredgecolor='#ed4c18', marker='v', \n",
    "            fillstyle='full', markersize=5,  lw=2, \n",
    "            alpha=1., ls='-',\n",
    "            elinewidth=2.,  capsize=2, capthick=2,\n",
    "            label='L=4')\n",
    "\n",
    "\n",
    "ax.legend(loc='best', markerscale=1.5, fontsize=14)#, frameon=False)\n",
    "ax.set_xlim(1., 3.5)\n",
    "#ax.grid(True)\n",
    "ax.set_xlabel('$T$', fontsize=16)\n",
    "ax.set_ylabel(r\"$\\langle \\Delta_{N_b}^2\\rangle$\", fontsize=16)\n",
    "#ax.set_title('Specific Heat Capacity $C_V$ vs. $T$', fontsize=22)\n",
    "out_dir = '../plots/bond_stats/'\n",
    "if not os.path.exists(out_dir):\n",
    "    os.makedirs(out_dir)\n",
    "existing = [int(i.split('_')[-1].rstrip('.png')) for i in os.listdir(out_dir) \n",
    "            if i.endswith('.png')]\n",
    "try:\n",
    "    latest_num = max(existing)\n",
    "except ValueError:\n",
    "    latest_num = 0\n",
    "new_num = latest_num + 1\n",
    "out_file = out_dir + 'delta_Nb_all_{}.png'.format(new_num)\n",
    "print(\"Saving file to: {}\".format(out_file))\n",
    "plt.savefig(out_file, dpi=600, bbox_inches='tight')\n",
    "plt.show()"
   ]
  },
  {
   "cell_type": "markdown",
   "metadata": {
    "heading_collapsed": true,
    "hidden": true
   },
   "source": [
    "### Rescaled:  $\\langle \\Delta_{N_b}^2\\rangle / L^{1/4}$ vs.  $(T-Tc)L^{1/4}$"
   ]
  },
  {
   "cell_type": "code",
   "execution_count": 36,
   "metadata": {
    "ExecuteTime": {
     "end_time": "2018-01-12T20:57:46.362930Z",
     "start_time": "2018-01-12T20:57:41.386712Z"
    },
    "code_folding": [],
    "hidden": true,
    "scrolled": false
   },
   "outputs": [
    {
     "data": {
      "text/plain": [
       "<matplotlib.lines.Line2D at 0x10fbd9550>"
      ]
     },
     "execution_count": 36,
     "metadata": {},
     "output_type": "execute_result"
    },
    {
     "data": {
      "text/plain": [
       "<Container object of 3 artists>"
      ]
     },
     "execution_count": 36,
     "metadata": {},
     "output_type": "execute_result"
    },
    {
     "data": {
      "text/plain": [
       "<Container object of 3 artists>"
      ]
     },
     "execution_count": 36,
     "metadata": {},
     "output_type": "execute_result"
    },
    {
     "data": {
      "text/plain": [
       "<Container object of 3 artists>"
      ]
     },
     "execution_count": 36,
     "metadata": {},
     "output_type": "execute_result"
    },
    {
     "data": {
      "text/plain": [
       "<Container object of 3 artists>"
      ]
     },
     "execution_count": 36,
     "metadata": {},
     "output_type": "execute_result"
    },
    {
     "data": {
      "text/plain": [
       "<matplotlib.legend.Legend at 0x10fc9e4a8>"
      ]
     },
     "execution_count": 36,
     "metadata": {},
     "output_type": "execute_result"
    },
    {
     "data": {
      "text/plain": [
       "(-3.0, 2.5)"
      ]
     },
     "execution_count": 36,
     "metadata": {},
     "output_type": "execute_result"
    },
    {
     "data": {
      "text/plain": [
       "Text(0.5,0,'$(T - T_c)L^{1/4}$')"
      ]
     },
     "execution_count": 36,
     "metadata": {},
     "output_type": "execute_result"
    },
    {
     "data": {
      "text/plain": [
       "Text(0,0.5,'$\\\\langle \\\\Delta_{N_b}^2\\\\rangle / L^{1/4}$')"
      ]
     },
     "execution_count": 36,
     "metadata": {},
     "output_type": "execute_result"
    },
    {
     "name": "stdout",
     "output_type": "stream",
     "text": [
      "Saving file to: ../plots/bond_stats/rescaled/delta_Nb_all_rescaled_9.png\n"
     ]
    },
    {
     "data": {
      "image/png": "[encoded data removed]",
      "text/plain": [
       "<matplotlib.figure.Figure at 0x10fbd9048>"
      ]
     },
     "metadata": {},
     "output_type": "display_data"
    }
   ],
   "source": [
    "fig, ax = plt.subplots()\n",
    "\n",
    "ax.axvline(x=0, linestyle='--', color='k')#, label='$T = T_c$')\n",
    "#ax.plot(temps32, flucts32/(2*32*32),\n",
    "ax.errorbar((Nb32_temps-Tc)*32**(1./4), delta_Nb32[:,0]/(32*32*32**(1./4)), \n",
    "            yerr=delta_Nb32[:,1]/(32*32*32**(1./4)),\n",
    "            marker='s', color='C0', alpha=1.,\n",
    "            markersize=4,  markeredgecolor='#1f1b93',\n",
    "            ls='-', fillstyle='full', lw=2,\n",
    "            elinewidth=2.,  capsize=2, capthick=2,\n",
    "            label='L=32')\n",
    "            \n",
    "#ax.plot(temps16, flucts16/(2*16*16),\n",
    "ax.errorbar((Nb16_temps-Tc)*16**(1./4), delta_Nb16[:,0]/(16*16*16**(1./4)), \n",
    "            yerr=delta_Nb16[:,1]/(16*16*16**(1./4)),\n",
    "            marker='H', color='#65e41d',\n",
    "            markeredgecolor='#00B000', markersize=4., \n",
    "            lw=2, alpha=1., ls='-', fillstyle='full',\n",
    "            elinewidth=2.,  capsize=2, capthick=2,\n",
    "            label='L=16')\n",
    "\n",
    "#ax.plot(temps8, flucts8/(2*8*8),\n",
    "ax.errorbar((Nb8_temps-Tc)*8**(1./4), delta_Nb8[:,0]/(8*8*8**(1./4)), \n",
    "            yerr=delta_Nb8[:,1]/(8*8*8**(1./4)),\n",
    "            marker='d', fillstyle='full', color='#be67ff',\n",
    "            markeredgecolor='#833c9f', markersize=4, \n",
    "            lw=2, alpha=1., ls='-',\n",
    "            elinewidth=2.,  capsize=2, capthick=2,\n",
    "            label='L=8')\n",
    "\n",
    "\n",
    "#ax.plot(temps4, flucts4/(2*4*4),\n",
    "ax.errorbar((Nb4_temps-Tc)*4**(1./4), delta_Nb4[:,0]/(4*4*4**(1./4)), \n",
    "            yerr=delta_Nb4[:,1]/(4*4*4**(1./4)),\n",
    "            color='C1', markeredgecolor='#ed4c18', marker='v', \n",
    "            fillstyle='full', markersize=4,  lw=2, \n",
    "            alpha=1., ls='-',\n",
    "            elinewidth=2.,  capsize=2, capthick=2,\n",
    "            label='L=4')\n",
    "\n",
    "\n",
    "ax.legend(loc='best', markerscale=1.5, fontsize=14)#, frameon=False)\n",
    "ax.set_xlim(-3., 2.5)\n",
    "#ax.grid(True)\n",
    "ax.set_xlabel('$(T - T_c)L^{1/4}$', fontsize=16)\n",
    "ax.set_ylabel(r\"$\\langle \\Delta_{N_b}^2\\rangle / L^{1/4}$\", fontsize=16)\n",
    "#ax.set_title('Specific Heat Capacity $C_V$ vs. $T$', fontsize=22)\n",
    "out_dir = '../plots/bond_stats/rescaled/'\n",
    "if not os.path.exists(out_dir):\n",
    "    os.makedirs(out_dir)\n",
    "existing = [int(i.split('_')[-1].rstrip('.png')) for i in os.listdir(out_dir) \n",
    "            if i.endswith('.png')]\n",
    "try:\n",
    "    latest_num = max(existing)\n",
    "except ValueError:\n",
    "    latest_num = 0\n",
    "new_num = latest_num + 1\n",
    "out_file = out_dir + 'delta_Nb_all_rescaled_{}.png'.format(new_num)\n",
    "print(\"Saving file to: {}\".format(out_file))\n",
    "plt.savefig(out_file, dpi=600, bbox_inches='tight')\n",
    "plt.show()"
   ]
  },
  {
   "cell_type": "markdown",
   "metadata": {
    "heading_collapsed": true,
    "hidden": true
   },
   "source": [
    "### $\\langle \\Delta_{N_b}^2\\rangle$ (blocked)"
   ]
  },
  {
   "cell_type": "code",
   "execution_count": 37,
   "metadata": {
    "ExecuteTime": {
     "end_time": "2018-01-12T20:57:55.451440Z",
     "start_time": "2018-01-12T20:57:50.065968Z"
    },
    "code_folding": [],
    "hidden": true,
    "scrolled": false
   },
   "outputs": [
    {
     "data": {
      "text/plain": [
       "<matplotlib.lines.Line2D at 0x10dea6828>"
      ]
     },
     "execution_count": 37,
     "metadata": {},
     "output_type": "execute_result"
    },
    {
     "data": {
      "text/plain": [
       "<Container object of 3 artists>"
      ]
     },
     "execution_count": 37,
     "metadata": {},
     "output_type": "execute_result"
    },
    {
     "data": {
      "text/plain": [
       "<Container object of 3 artists>"
      ]
     },
     "execution_count": 37,
     "metadata": {},
     "output_type": "execute_result"
    },
    {
     "data": {
      "text/plain": [
       "<Container object of 3 artists>"
      ]
     },
     "execution_count": 37,
     "metadata": {},
     "output_type": "execute_result"
    },
    {
     "data": {
      "text/plain": [
       "<Container object of 3 artists>"
      ]
     },
     "execution_count": 37,
     "metadata": {},
     "output_type": "execute_result"
    },
    {
     "data": {
      "text/plain": [
       "<matplotlib.legend.Legend at 0x114a6aba8>"
      ]
     },
     "execution_count": 37,
     "metadata": {},
     "output_type": "execute_result"
    },
    {
     "data": {
      "text/plain": [
       "(1.0, 3.5)"
      ]
     },
     "execution_count": 37,
     "metadata": {},
     "output_type": "execute_result"
    },
    {
     "data": {
      "text/plain": [
       "Text(0.5,0,'$T$')"
      ]
     },
     "execution_count": 37,
     "metadata": {},
     "output_type": "execute_result"
    },
    {
     "data": {
      "text/plain": [
       "Text(0,0.5,'$\\\\langle \\\\Delta_{N_b}^2\\\\rangle$, blocked')"
      ]
     },
     "execution_count": 37,
     "metadata": {},
     "output_type": "execute_result"
    },
    {
     "name": "stdout",
     "output_type": "stream",
     "text": [
      "Saving file to: ../plots/bond_stats/blocked/delta_Nb_all_18.png\n"
     ]
    },
    {
     "data": {
      "image/png": "[encoded data removed]",
      "text/plain": [
       "<matplotlib.figure.Figure at 0x10dea6048>"
      ]
     },
     "metadata": {},
     "output_type": "display_data"
    }
   ],
   "source": [
    "fig, ax = plt.subplots()\n",
    "\n",
    "ax.axvline(x=Tc, linestyle='--', color='k')#, label='$T = T_c$')\n",
    "ax.errorbar(Nb32b_temps, delta_Nb32b[:,0]/(2*32*32), \n",
    "            yerr=delta_Nb32b[:,1]/(2*32*32),\n",
    "            marker='s', color='C0', alpha=1.,\n",
    "            markersize=5,  markeredgecolor='#1f1b93',\n",
    "            ls='-', fillstyle='full', lw=2,\n",
    "            elinewidth=2.,  capsize=2, capthick=2,\n",
    "            label=\"$L^{\\prime}=16$\")\n",
    "ax.errorbar(Nb16b_temps, delta_Nb16b[:,0]/(2*16*16),\n",
    "            yerr=delta_Nb16b[:,1]/(2*16*16),\n",
    "            marker='H', color='#65e41d',\n",
    "            markeredgecolor='#00B000', markersize=5., \n",
    "            lw=2, alpha=1., ls='-', fillstyle='full',\n",
    "            elinewidth=2.,  capsize=2, capthick=2,\n",
    "            label=\"$L^{\\prime}=8$\")\n",
    "ax.errorbar(Nb8b_temps, delta_Nb8b[:,0]/(2*8*8), \n",
    "            yerr=delta_Nb8b[:,1]/(2*8*8),\n",
    "            marker='d', fillstyle='full', color='#be67ff',\n",
    "            markeredgecolor='#833c9f', markersize=5, \n",
    "            lw=2, alpha=1., ls='-',\n",
    "            elinewidth=2.,  capsize=2, capthick=2,\n",
    "            label=\"$L^{\\prime}=4$\")\n",
    "ax.errorbar(Nb4b_temps, delta_Nb4b[:,0]/(2*4*4), \n",
    "            yerr=delta_Nb4b[:,1]/(2*4*4),\n",
    "            color='C1', markeredgecolor='#ed4c18', marker='v', \n",
    "            fillstyle='full', markersize=5,  lw=2, \n",
    "            alpha=1., ls='-',\n",
    "            elinewidth=2.,  capsize=2, capthick=2,\n",
    "            label=\"$L^{\\prime}=2$\")\n",
    "\n",
    "\n",
    "ax.legend(loc='best', markerscale=1.5, fontsize=14)#, frameon=False)\n",
    "ax.set_xlim(1., 3.5)\n",
    "#ax.grid(True)\n",
    "ax.set_xlabel('$T$', fontsize=16)\n",
    "ax.set_ylabel(r\"$\\langle \\Delta_{N_b}^2\\rangle$, blocked\", fontsize=16)\n",
    "#ax.set_title('Specific Heat Capacity $C_V$ vs. $T$', fontsize=22)\n",
    "out_dir = '../plots/bond_stats/blocked/'\n",
    "if not os.path.exists(out_dir):\n",
    "    os.makedirs(out_dir)\n",
    "existing = [int(i.split('_')[-1].rstrip('.png')) for i in os.listdir(out_dir) \n",
    "            if i.endswith('.png')]\n",
    "try:\n",
    "    latest_num = max(existing)\n",
    "except ValueError:\n",
    "    latest_num = 0\n",
    "new_num = latest_num + 1\n",
    "out_file = out_dir + 'delta_Nb_all_{}.png'.format(new_num)\n",
    "print(\"Saving file to: {}\".format(out_file))\n",
    "plt.savefig(out_file, dpi=600, bbox_inches='tight')\n",
    "plt.show()"
   ]
  },
  {
   "cell_type": "markdown",
   "metadata": {
    "heading_collapsed": true,
    "hidden": true
   },
   "source": [
    "### Rescaled (blocked):  $\\langle \\Delta_{N_b}^2\\rangle / L^{1/4}$ vs.  $(T-Tc)L^{1/4}$"
   ]
  },
  {
   "cell_type": "code",
   "execution_count": 38,
   "metadata": {
    "ExecuteTime": {
     "end_time": "2018-01-12T20:58:19.843630Z",
     "start_time": "2018-01-12T20:58:14.233981Z"
    },
    "code_folding": [
     4,
     10,
     17,
     24
    ],
    "hidden": true,
    "scrolled": false
   },
   "outputs": [
    {
     "data": {
      "text/plain": [
       "<matplotlib.lines.Line2D at 0x10f99af60>"
      ]
     },
     "execution_count": 38,
     "metadata": {},
     "output_type": "execute_result"
    },
    {
     "data": {
      "text/plain": [
       "<Container object of 3 artists>"
      ]
     },
     "execution_count": 38,
     "metadata": {},
     "output_type": "execute_result"
    },
    {
     "data": {
      "text/plain": [
       "<Container object of 3 artists>"
      ]
     },
     "execution_count": 38,
     "metadata": {},
     "output_type": "execute_result"
    },
    {
     "data": {
      "text/plain": [
       "<Container object of 3 artists>"
      ]
     },
     "execution_count": 38,
     "metadata": {},
     "output_type": "execute_result"
    },
    {
     "data": {
      "text/plain": [
       "<Container object of 3 artists>"
      ]
     },
     "execution_count": 38,
     "metadata": {},
     "output_type": "execute_result"
    },
    {
     "data": {
      "text/plain": [
       "<matplotlib.legend.Legend at 0x10e23a550>"
      ]
     },
     "execution_count": 38,
     "metadata": {},
     "output_type": "execute_result"
    },
    {
     "data": {
      "text/plain": [
       "(-3.0, 2.5)"
      ]
     },
     "execution_count": 38,
     "metadata": {},
     "output_type": "execute_result"
    },
    {
     "data": {
      "text/plain": [
       "Text(0.5,0,'$(T - T_c) L^{1/4}$')"
      ]
     },
     "execution_count": 38,
     "metadata": {},
     "output_type": "execute_result"
    },
    {
     "data": {
      "text/plain": [
       "Text(0,0.5,'$\\\\langle \\\\Delta_{N_b}^2\\\\rangle$, blocked')"
      ]
     },
     "execution_count": 38,
     "metadata": {},
     "output_type": "execute_result"
    },
    {
     "data": {
      "image/png": "[encoded data removed]",
      "text/plain": [
       "<matplotlib.figure.Figure at 0x10f99ad68>"
      ]
     },
     "metadata": {},
     "output_type": "display_data"
    }
   ],
   "source": [
    "fig, ax = plt.subplots()\n",
    "\n",
    "ax.axvline(x=0, linestyle='--', color='k')#, label='$T = T_c$')\n",
    "ax.errorbar((Nb32b_temps-Tc)*16**(1./4), delta_Nb32b[:,0]/(2*16*16*16**(1./4)), \n",
    "yerr=delta_Nb32b[:,1]/(2*16*16*16**(1./4)),\n",
    "            marker='s', color='C0', alpha=1.,\n",
    "            markersize=4,  markeredgecolor='#1f1b93',\n",
    "            ls='-', fillstyle='full', lw=2,\n",
    "            elinewidth=2.,  capsize=2, capthick=2,\n",
    "            label='L=32')\n",
    "ax.errorbar((Nb16b_temps-Tc)*8**(1./4), delta_Nb16b[:,0]/(2*8*8*8**(1./4)), \n",
    "            yerr=delta_Nb16b[:,1]/(2*8*8*8**(1./4)),\n",
    "            marker='H', color='#65e41d',\n",
    "            markeredgecolor='#00B000', markersize=4., \n",
    "            lw=2, alpha=1., ls='-', fillstyle='full',\n",
    "            elinewidth=2.,  capsize=2, capthick=2,\n",
    "            label='L=16')\n",
    "ax.errorbar((Nb8b_temps-Tc)*4**(1./4), delta_Nb8b[:,0]/(2*4*4*4**(1./4)), \n",
    "            yerr=delta_Nb8b[:,1]/(2*4*4*4**(1./4)),\n",
    "            marker='d', fillstyle='full', color='#be67ff',\n",
    "            markeredgecolor='#833c9f', markersize=4, \n",
    "            lw=2, alpha=1., ls='-',\n",
    "            elinewidth=2.,  capsize=2, capthick=2,\n",
    "            label='L=8')\n",
    "ax.errorbar((Nb4b_temps-Tc)*2**(1./4), delta_Nb4b[:,0]/(2*2*2*2**(1./4)), \n",
    "            yerr=delta_Nb4b[:,1]/(2*2*2*2**(1./4)),\n",
    "            color='C1', markeredgecolor='#ed4c18', marker='v', \n",
    "            fillstyle='full', markersize=4,  lw=2, \n",
    "            alpha=1., ls='-',\n",
    "            elinewidth=2.,  capsize=2, capthick=2,\n",
    "            label='L=4')\n",
    "\n",
    "ax.legend(loc='best', markerscale=1.5, fontsize=14)#, frameon=False)\n",
    "ax.set_xlim(-3., 2.5)\n",
    "ax.set_xlabel('$(T - T_c) L^{1/4}$', fontsize=16)\n",
    "ax.set_ylabel(r\"$\\langle \\Delta_{N_b}^2\\rangle$, blocked\", fontsize=16)\n",
    "#ax.set_title('Specific Heat Capacity $C_V$ vs. $T$', fontsize=22)\n",
    "out_dir = '../plots/bond_stats/blocked/rescaled/'\n",
    "if not os.path.exists(out_dir):\n",
    "    os.makedirs(out_dir)\n",
    "existing = [int(i.split('_')[-1].rstrip('.png')) for i in os.listdir(out_dir) \n",
    "            if i.endswith('.png')]\n",
    "try:\n",
    "    latest_num = max(existing)\n",
    "except ValueError:\n",
    "    latest_num = 0\n",
    "new_num = latest_num + 1\n",
    "out_file = out_dir + 'delta_Nb_all_rescaled_{}.png'.format(new_num)\n",
    "plt.savefig(out_file, dpi=600, bbox_inches='tight')\n",
    "plt.show()"
   ]
  },
  {
   "cell_type": "markdown",
   "metadata": {
    "heading_collapsed": true,
    "hidden": true
   },
   "source": [
    "## PCA  $(\\lambda_1)$ Plots"
   ]
  },
  {
   "cell_type": "markdown",
   "metadata": {
    "heading_collapsed": true,
    "hidden": true
   },
   "source": [
    "### $\\lambda_1$"
   ]
  },
  {
   "cell_type": "code",
   "execution_count": 56,
   "metadata": {
    "ExecuteTime": {
     "end_time": "2018-01-12T21:20:39.887682Z",
     "start_time": "2018-01-12T21:20:34.381959Z"
    },
    "code_folding": [
     4,
     13,
     20,
     28
    ],
    "hidden": true,
    "scrolled": false
   },
   "outputs": [
    {
     "data": {
      "text/plain": [
       "<matplotlib.lines.Line2D at 0x119fedcc0>"
      ]
     },
     "execution_count": 56,
     "metadata": {},
     "output_type": "execute_result"
    },
    {
     "data": {
      "text/plain": [
       "<Container object of 3 artists>"
      ]
     },
     "execution_count": 56,
     "metadata": {},
     "output_type": "execute_result"
    },
    {
     "data": {
      "text/plain": [
       "<Container object of 3 artists>"
      ]
     },
     "execution_count": 56,
     "metadata": {},
     "output_type": "execute_result"
    },
    {
     "data": {
      "text/plain": [
       "<Container object of 3 artists>"
      ]
     },
     "execution_count": 56,
     "metadata": {},
     "output_type": "execute_result"
    },
    {
     "data": {
      "text/plain": [
       "<Container object of 3 artists>"
      ]
     },
     "execution_count": 56,
     "metadata": {},
     "output_type": "execute_result"
    },
    {
     "data": {
      "text/plain": [
       "<matplotlib.legend.Legend at 0x10da40c50>"
      ]
     },
     "execution_count": 56,
     "metadata": {},
     "output_type": "execute_result"
    },
    {
     "data": {
      "text/plain": [
       "(1, 3.5)"
      ]
     },
     "execution_count": 56,
     "metadata": {},
     "output_type": "execute_result"
    },
    {
     "data": {
      "text/plain": [
       "Text(0.5,0,'$T$')"
      ]
     },
     "execution_count": 56,
     "metadata": {},
     "output_type": "execute_result"
    },
    {
     "data": {
      "text/plain": [
       "Text(0,0.5,'$\\\\lambda_1$')"
      ]
     },
     "execution_count": 56,
     "metadata": {},
     "output_type": "execute_result"
    },
    {
     "name": "stdout",
     "output_type": "stream",
     "text": [
      "Saving file to: ../plots/pca/leading_eigenvalue_all_19.png\n"
     ]
    },
    {
     "data": {
      "image/png": "[encoded data removed]",
      "text/plain": [
       "<matplotlib.figure.Figure at 0x119fedc18>"
      ]
     },
     "metadata": {},
     "output_type": "display_data"
    }
   ],
   "source": [
    "fig, ax = plt.subplots()\n",
    "\n",
    "ax.axvline(x=Tc, linestyle='--', color='k')#, label='$T = T_c$')\n",
    "\n",
    "ax.errorbar(pca32_temps, pca32_vals,\n",
    "            yerr=list(pca32._err.values()),\n",
    "            marker='s', color='C0',\n",
    "            markersize=4,  markeredgecolor='#1f1b93',\n",
    "            ls='-', fillstyle='full', lw=2.,\n",
    "            elinewidth=2.,  alpha=1.,\n",
    "            capsize=2, capthick=2,\n",
    "            label='L=32')\n",
    "            \n",
    "ax.errorbar(pca16_temps, pca16_vals,\n",
    "            yerr=list(pca16._err.values()),\n",
    "            marker='H', color='#65e41d',\n",
    "            markeredgecolor='#00B000', markersize=4., \n",
    "            lw=2., elinewidth=2.,  alpha=1., ls='-',\n",
    "            fillstyle='full', capsize=2, capthick=2, \n",
    "            label='L=16')\n",
    "ax.errorbar(pca8_temps, pca8_vals,\n",
    "            yerr=list(pca8._err.values()),\n",
    "            marker='d', fillstyle='full', color='#be67ff',\n",
    "            markeredgecolor='#833c9f', markersize=4, \n",
    "            lw=2., elinewidth=2.,  alpha=1., ls='-',\n",
    "            capsize=2, capthick=2, \n",
    "            label='L=8')\n",
    "ax.errorbar(pca4_temps, pca4_vals,\n",
    "            yerr=list(pca4._err.values()),\n",
    "            color='C1', markeredgecolor='#ed4c18', marker='v', \n",
    "            fillstyle='full', markersize=4,  lw=2., elinewidth=2., \n",
    "            alpha=1., capsize=2, capthick=2,  ls='-',\n",
    "            label='L=4')\n",
    "\n",
    "ax.legend(loc='best', markerscale=1.5, fontsize=14)#, frameon=False)\n",
    "ax.set_xlim(1, 3.5)\n",
    "ax.set_xlabel('$T$', fontsize=16)\n",
    "ax.set_ylabel('$\\lambda_1$', fontsize=16)\n",
    "out_dir = '../plots/pca/'\n",
    "if not os.path.exists(out_dir):\n",
    "    os.makedirs(out_dir)\n",
    "existing = [float(i.split('_')[-1].rstrip('.png')) for i in os.listdir(out_dir) \n",
    "            if i.endswith('.png')]\n",
    "try:\n",
    "    latest_num = max(existing)\n",
    "except ValueError:\n",
    "    latest_num = 0\n",
    "new_num = int(latest_num + 1)\n",
    "out_file = out_dir + 'leading_eigenvalue_all_{}.png'.format(new_num)\n",
    "print(\"Saving file to: {}\".format(out_file))\n",
    "plt.savefig(out_file, dpi=600, bbox_inches='tight')\n",
    "plt.show()\n",
    "plt.show()"
   ]
  },
  {
   "cell_type": "markdown",
   "metadata": {
    "heading_collapsed": true,
    "hidden": true
   },
   "source": [
    "### $\\lambda_1$ (rescaled)"
   ]
  },
  {
   "cell_type": "code",
   "execution_count": 57,
   "metadata": {
    "ExecuteTime": {
     "end_time": "2018-01-12T21:20:59.625681Z",
     "start_time": "2018-01-12T21:20:54.218359Z"
    },
    "hidden": true,
    "scrolled": false
   },
   "outputs": [
    {
     "data": {
      "text/plain": [
       "<matplotlib.lines.Line2D at 0x10a439c50>"
      ]
     },
     "execution_count": 57,
     "metadata": {},
     "output_type": "execute_result"
    },
    {
     "data": {
      "text/plain": [
       "<Container object of 3 artists>"
      ]
     },
     "execution_count": 57,
     "metadata": {},
     "output_type": "execute_result"
    },
    {
     "data": {
      "text/plain": [
       "<Container object of 3 artists>"
      ]
     },
     "execution_count": 57,
     "metadata": {},
     "output_type": "execute_result"
    },
    {
     "data": {
      "text/plain": [
       "<Container object of 3 artists>"
      ]
     },
     "execution_count": 57,
     "metadata": {},
     "output_type": "execute_result"
    },
    {
     "data": {
      "text/plain": [
       "<Container object of 3 artists>"
      ]
     },
     "execution_count": 57,
     "metadata": {},
     "output_type": "execute_result"
    },
    {
     "data": {
      "text/plain": [
       "<matplotlib.legend.Legend at 0x10de44550>"
      ]
     },
     "execution_count": 57,
     "metadata": {},
     "output_type": "execute_result"
    },
    {
     "data": {
      "text/plain": [
       "Text(0.5,0,'$(T - T_c)L^{1/4}$')"
      ]
     },
     "execution_count": 57,
     "metadata": {},
     "output_type": "execute_result"
    },
    {
     "data": {
      "text/plain": [
       "Text(0,0.5,'$\\\\lambda_1 / L^{1/4}$')"
      ]
     },
     "execution_count": 57,
     "metadata": {},
     "output_type": "execute_result"
    },
    {
     "name": "stdout",
     "output_type": "stream",
     "text": [
      "Saving file to: ../plots/pca/rescaled/leading_eigenvalue_all_rs_10.png\n"
     ]
    },
    {
     "data": {
      "image/png": "[encoded data removed]",
      "text/plain": [
       "<matplotlib.figure.Figure at 0x10a439438>"
      ]
     },
     "metadata": {},
     "output_type": "display_data"
    }
   ],
   "source": [
    "pca32_temps = np.array(pca32_temps)\n",
    "pca32_vals = np.array(pca32_vals)\n",
    "pca32_err = np.array(pca32_err)\n",
    "pca16_temps = np.array(pca16_temps)\n",
    "pca16_vals = np.array(pca16_vals)\n",
    "pca16_err = np.array(pca16_err)\n",
    "pca8_temps = np.array(pca8_temps)\n",
    "pca8_vals = np.array(pca8_vals)\n",
    "pca8_err = np.array(pca8_err)\n",
    "pca4_temps = np.array(pca4_temps)\n",
    "pca4_vals = np.array(pca4_vals)\n",
    "pca4_err = np.array(pca4_err)\n",
    "\n",
    "fig, ax = plt.subplots()\n",
    "\n",
    "ax.axvline(x=0, linestyle='--', color='k')#, label='$T = T_c$')\n",
    "ax.errorbar((pca32_temps-Tc)*32**(1./4), pca32_vals/(32**(1./4)),\n",
    "            yerr=pca32_err/(32**(1./4)),\n",
    "            marker='s', color='C0',\n",
    "            markersize=5,  markeredgecolor='#1f1b93',\n",
    "            ls='-', fillstyle='full', lw=2.,\n",
    "            elinewidth=2.,  alpha=1.,\n",
    "            capsize=2, capthick=2,\n",
    "            label=r\"$L^{\\prime}=16$\")\n",
    "ax.errorbar((pca16_temps - Tc)*16**(1./4), pca16_vals/(16**(1./4)),\n",
    "            yerr=pca16_err/(16**(1./4)),\n",
    "            marker='H', color='#65e41d',\n",
    "            markeredgecolor='#00B000', markersize=5., \n",
    "            lw=2., elinewidth=2.,  alpha=1., ls='-',\n",
    "            fillstyle='full', capsize=2, capthick=2, \n",
    "            label=r\"$L^{\\prime}=8$\")\n",
    "ax.errorbar((pca8_temps - Tc)*8**(1./4), pca8_vals/(8**(1./4)),\n",
    "            yerr=pca8_err/(8**(1./4)),\n",
    "            marker='d', fillstyle='full', color='#be67ff',\n",
    "            markeredgecolor='#833c9f', markersize=5, \n",
    "            lw=2., elinewidth=2.,  alpha=1., ls='-',\n",
    "            capsize=2, capthick=2, \n",
    "            label=r\"$L^{\\prime}=4$\")\n",
    "ax.errorbar((pca4_temps - Tc)*4**(1./4), pca4_vals/(4**(1./4)),\n",
    "            yerr=pca4_err/(4**(1./4)),\n",
    "            color='C1', markeredgecolor='#ed4c18', marker='v', \n",
    "            fillstyle='full', markersize=5,  lw=2., elinewidth=2., \n",
    "            alpha=1., capsize=2, capthick=2,  ls='-',\n",
    "            label=r\"$L^{\\prime}=2$\")\n",
    "\n",
    "ax.legend(loc='best', markerscale=1.5, fontsize=14)#, frameon=False)\n",
    "#ax.set_xlim(1., 3.5)\n",
    "ax.set_xlabel('$(T - T_c)L^{1/4}$', fontsize=16)\n",
    "ax.set_ylabel('$\\lambda_1 / L^{1/4}$', fontsize=16)\n",
    "out_dir = '../plots/pca/rescaled/'\n",
    "if not os.path.exists(out_dir):\n",
    "    os.makedirs(out_dir)\n",
    "existing = [float(i.split('_')[-1].rstrip('.png')) for i in os.listdir(out_dir) \n",
    "            if i.endswith('.png')]\n",
    "try:\n",
    "    latest_num = int(max(existing))\n",
    "except ValueError:\n",
    "    latest_num = 0\n",
    "new_num = int(latest_num + 1)\n",
    "out_file = out_dir + 'leading_eigenvalue_all_rs_{}.png'.format(new_num)\n",
    "print(\"Saving file to: {}\".format(out_file))\n",
    "plt.savefig(out_file, dpi=600, bbox_inches='tight')\n",
    "plt.show()\n",
    "plt.show()"
   ]
  },
  {
   "cell_type": "markdown",
   "metadata": {
    "heading_collapsed": true,
    "hidden": true
   },
   "source": [
    "### $\\lambda_1^{blocked}$"
   ]
  },
  {
   "cell_type": "code",
   "execution_count": 58,
   "metadata": {
    "ExecuteTime": {
     "end_time": "2018-01-12T21:21:18.198731Z",
     "start_time": "2018-01-12T21:21:12.867431Z"
    },
    "cell_style": "center",
    "hidden": true,
    "scrolled": false
   },
   "outputs": [
    {
     "data": {
      "text/plain": [
       "<matplotlib.lines.Line2D at 0x119fe8e10>"
      ]
     },
     "execution_count": 58,
     "metadata": {},
     "output_type": "execute_result"
    },
    {
     "data": {
      "text/plain": [
       "<Container object of 3 artists>"
      ]
     },
     "execution_count": 58,
     "metadata": {},
     "output_type": "execute_result"
    },
    {
     "data": {
      "text/plain": [
       "<Container object of 3 artists>"
      ]
     },
     "execution_count": 58,
     "metadata": {},
     "output_type": "execute_result"
    },
    {
     "data": {
      "text/plain": [
       "<Container object of 3 artists>"
      ]
     },
     "execution_count": 58,
     "metadata": {},
     "output_type": "execute_result"
    },
    {
     "data": {
      "text/plain": [
       "<Container object of 3 artists>"
      ]
     },
     "execution_count": 58,
     "metadata": {},
     "output_type": "execute_result"
    },
    {
     "data": {
      "text/plain": [
       "<matplotlib.legend.Legend at 0x1116e5278>"
      ]
     },
     "execution_count": 58,
     "metadata": {},
     "output_type": "execute_result"
    },
    {
     "data": {
      "text/plain": [
       "(1.0, 3.5)"
      ]
     },
     "execution_count": 58,
     "metadata": {},
     "output_type": "execute_result"
    },
    {
     "data": {
      "text/plain": [
       "Text(0.5,0,'$T$')"
      ]
     },
     "execution_count": 58,
     "metadata": {},
     "output_type": "execute_result"
    },
    {
     "data": {
      "text/plain": [
       "Text(0,0.5,'$\\\\lambda_1^{blocked}$')"
      ]
     },
     "execution_count": 58,
     "metadata": {},
     "output_type": "execute_result"
    },
    {
     "name": "stdout",
     "output_type": "stream",
     "text": [
      "Saving file to: ../plots/pca/blocked/double_bonds_0/leading_eigenvalue_all_13.png\n"
     ]
    },
    {
     "data": {
      "image/png": "[encoded data removed]",
      "text/plain": [
       "<matplotlib.figure.Figure at 0x119fe89e8>"
      ]
     },
     "metadata": {},
     "output_type": "display_data"
    }
   ],
   "source": [
    "fig, ax = plt.subplots()\n",
    "\n",
    "ax.axvline(x=Tc, linestyle='--', color='k')#, label='$T = T_c$')\n",
    "\n",
    "ax.errorbar(pca32b_temps, pca32b_vals,\n",
    "            yerr=pca32b_err,\n",
    "            marker='s', color='C0',\n",
    "            markersize=4,  markeredgecolor='#1f1b93',\n",
    "            ls='-', fillstyle='full', lw=2.,\n",
    "            elinewidth=2.,  alpha=1.,\n",
    "            capsize=2, capthick=2,\n",
    "            label=r\"$L^{\\prime}=16$\")\n",
    "ax.errorbar(pca16b_temps, pca16b_vals,\n",
    "            yerr=pca16b_err,\n",
    "            marker='H', color='#65e41d',\n",
    "            markeredgecolor='#00B000', markersize=4., \n",
    "            lw=2., elinewidth=2.,  alpha=1., ls='-',\n",
    "            fillstyle='full', capsize=2, capthick=2, \n",
    "            label=r\"$L^{\\prime}=8$\")\n",
    "ax.errorbar(pca8b_temps, pca8b_vals,\n",
    "            yerr=pca8b_err,\n",
    "            marker='d', fillstyle='full', color='#be67ff',\n",
    "            markeredgecolor='#833c9f', markersize=4, \n",
    "            lw=2., elinewidth=2.,  alpha=1., ls='-',\n",
    "            capsize=2, capthick=2, \n",
    "            label=r\"$L^{\\prime}=4$\")\n",
    "ax.errorbar(pca4b_temps, pca4b_vals,\n",
    "            yerr=pca4b_err,\n",
    "            color='C1', markeredgecolor='#ed4c18', marker='v', \n",
    "            fillstyle='full', markersize=4,  lw=2., elinewidth=2., \n",
    "            alpha=1., capsize=2, capthick=2,  ls='-',\n",
    "            label=r\"$L^{\\prime}=2$\")\n",
    "\n",
    "ax.legend(loc='best', markerscale=1.5, fontsize=14)#, frameon=False)\n",
    "ax.set_xlim(1., 3.5)\n",
    "ax.set_xlabel('$T$', fontsize=16)\n",
    "ax.set_ylabel('$\\lambda_1^{blocked}$', fontsize=16)\n",
    "out_dir = '../plots/pca/blocked/double_bonds_0/'\n",
    "if not os.path.exists(out_dir):\n",
    "    os.makedirs(out_dir)\n",
    "existing = [float(i.split('_')[-1].rstrip('.png')) for i in os.listdir(out_dir) \n",
    "            if i.endswith('.png')]\n",
    "try:\n",
    "    latest_num = max(existing)\n",
    "except ValueError:\n",
    "    latest_num = 0\n",
    "new_num = int(latest_num + 1)\n",
    "out_file = out_dir + 'leading_eigenvalue_all_{}.png'.format(new_num)\n",
    "print(\"Saving file to: {}\".format(out_file))\n",
    "plt.savefig(out_file, dpi=600, bbox_inches='tight')\n",
    "plt.show()\n",
    "plt.show()"
   ]
  },
  {
   "cell_type": "markdown",
   "metadata": {
    "heading_collapsed": true,
    "hidden": true
   },
   "source": [
    "### $\\lambda_1^{blocked}$ (rescaled)"
   ]
  },
  {
   "cell_type": "code",
   "execution_count": 59,
   "metadata": {
    "ExecuteTime": {
     "end_time": "2018-01-12T21:21:37.301825Z",
     "start_time": "2018-01-12T21:21:31.784156Z"
    },
    "hidden": true,
    "scrolled": false
   },
   "outputs": [
    {
     "data": {
      "text/plain": [
       "<matplotlib.lines.Line2D at 0x110eb8a58>"
      ]
     },
     "execution_count": 59,
     "metadata": {},
     "output_type": "execute_result"
    },
    {
     "data": {
      "text/plain": [
       "<Container object of 3 artists>"
      ]
     },
     "execution_count": 59,
     "metadata": {},
     "output_type": "execute_result"
    },
    {
     "data": {
      "text/plain": [
       "<Container object of 3 artists>"
      ]
     },
     "execution_count": 59,
     "metadata": {},
     "output_type": "execute_result"
    },
    {
     "data": {
      "text/plain": [
       "<Container object of 3 artists>"
      ]
     },
     "execution_count": 59,
     "metadata": {},
     "output_type": "execute_result"
    },
    {
     "data": {
      "text/plain": [
       "<Container object of 3 artists>"
      ]
     },
     "execution_count": 59,
     "metadata": {},
     "output_type": "execute_result"
    },
    {
     "data": {
      "text/plain": [
       "<matplotlib.legend.Legend at 0x110616b00>"
      ]
     },
     "execution_count": 59,
     "metadata": {},
     "output_type": "execute_result"
    },
    {
     "data": {
      "text/plain": [
       "Text(0.5,0,'$(T - T_c)L^{1/4}$')"
      ]
     },
     "execution_count": 59,
     "metadata": {},
     "output_type": "execute_result"
    },
    {
     "data": {
      "text/plain": [
       "Text(0,0.5,'$\\\\lambda_1^{blocked} / L^{1/4}$')"
      ]
     },
     "execution_count": 59,
     "metadata": {},
     "output_type": "execute_result"
    },
    {
     "name": "stdout",
     "output_type": "stream",
     "text": [
      "Saving file to: ../plots/pca/blocked/rescaled/leading_eigenvalue_all_rs_8.png\n"
     ]
    },
    {
     "data": {
      "image/png": "[encoded data removed]",
      "text/plain": [
       "<matplotlib.figure.Figure at 0x110eb89b0>"
      ]
     },
     "metadata": {},
     "output_type": "display_data"
    }
   ],
   "source": [
    "pca32b_temps = np.array(pca32b_temps)\n",
    "pca32b_vals = np.array(pca32b_vals)\n",
    "pca32b_err = np.array(pca32b_err)\n",
    "pca16b_temps = np.array(pca16b_temps)\n",
    "pca16b_vals = np.array(pca16b_vals)\n",
    "pca16b_err = np.array(pca16b_err)\n",
    "pca8b_temps = np.array(pca8b_temps)\n",
    "pca8b_vals = np.array(pca8b_vals)\n",
    "pca8b_err = np.array(pca8b_err)\n",
    "pca4b_temps = np.array(pca4b_temps)\n",
    "pca4b_vals = np.array(pca4b_vals)\n",
    "pca4b_err = np.array(pca4b_err)\n",
    "\n",
    "fig, ax = plt.subplots()\n",
    "\n",
    "ax.axvline(x=0, linestyle='--', color='k')#, label='$T = T_c$')\n",
    "ax.errorbar((pca32b_temps-Tc)*16**(1./4), pca32b_vals/(2*16**(1./4)),\n",
    "            yerr=pca32b_err/(2*16**(1./4)),\n",
    "            marker='s', color='C0',\n",
    "            markersize=5,  markeredgecolor='#1f1b93',\n",
    "            ls='-', fillstyle='full', lw=2.,\n",
    "            elinewidth=2.,  alpha=1.,\n",
    "            capsize=2, capthick=2,\n",
    "            label=r\"$L^{\\prime}=16$\")\n",
    "ax.errorbar((pca16b_temps - Tc)*8**(1./4), pca16b_vals/(2*8**(1./4)),\n",
    "            yerr=pca16b_err/(2*8**(1./4)),\n",
    "            marker='H', color='#65e41d',\n",
    "            markeredgecolor='#00B000', markersize=5., \n",
    "            lw=2., elinewidth=2.,  alpha=1., ls='-',\n",
    "            fillstyle='full', capsize=2, capthick=2, \n",
    "            label=r\"$L^{\\prime}=8$\")\n",
    "ax.errorbar((pca8b_temps - Tc)*4**(1./4), pca8b_vals/(2*4**(1./4)),\n",
    "            yerr=pca8b_err/(2*4**(1./4)),\n",
    "            marker='d', fillstyle='full', color='#be67ff',\n",
    "            markeredgecolor='#833c9f', markersize=5, \n",
    "            lw=2., elinewidth=2.,  alpha=1., ls='-',\n",
    "            capsize=2, capthick=2, \n",
    "            label=r\"$L^{\\prime}=4$\")\n",
    "ax.errorbar((pca4b_temps - Tc)*2**(1./4), pca4b_vals/(2*2**(1./4)),\n",
    "            yerr=pca4b_err/(2*2**(1./4)),\n",
    "            color='C1', markeredgecolor='#ed4c18', marker='v', \n",
    "            fillstyle='full', markersize=5,  lw=2., elinewidth=2., \n",
    "            alpha=1., capsize=2, capthick=2,  ls='-',\n",
    "            label=r\"$L^{\\prime}=2$\")\n",
    "\n",
    "ax.legend(loc='best', markerscale=1.5, fontsize=14)#, frameon=False)\n",
    "#ax.set_xlim(1., 3.5)\n",
    "ax.set_xlabel('$(T - T_c)L^{1/4}$', fontsize=16)\n",
    "ax.set_ylabel('$\\lambda_1^{blocked} / L^{1/4}$', fontsize=16)\n",
    "out_dir = '../plots/pca/blocked/rescaled/'\n",
    "if not os.path.exists(out_dir):\n",
    "    os.makedirs(out_dir)\n",
    "existing = [float(i.split('_')[-1].rstrip('.png')) for i in os.listdir(out_dir) \n",
    "            if i.endswith('.png')]\n",
    "try:\n",
    "    latest_num = max(existing)\n",
    "except ValueError:\n",
    "    latest_num = 0\n",
    "new_num = int(latest_num + 1)\n",
    "out_file = out_dir + 'leading_eigenvalue_all_rs_{}.png'.format(new_num)\n",
    "print(\"Saving file to: {}\".format(out_file))\n",
    "plt.savefig(out_file, dpi=600, bbox_inches='tight')\n",
    "plt.show()\n",
    "plt.show()"
   ]
  }
 ],
 "metadata": {
  "hide_input": false,
  "kernelspec": {
   "display_name": "Python 3",
   "language": "python",
   "name": "python3"
  },
  "language_info": {
   "codemirror_mode": {
    "name": "ipython",
    "version": 3
   },
   "file_extension": ".py",
   "mimetype": "text/x-python",
   "name": "python",
   "nbconvert_exporter": "python",
   "pygments_lexer": "ipython3",
   "version": "3.6.4"
  },
  "latex_envs": {
   "LaTeX_envs_menu_present": true,
   "bibliofile": "biblio.bib",
   "cite_by": "apalike",
   "current_citInitial": 1,
   "eqLabelWithNumbers": true,
   "eqNumInitial": 1,
   "labels_anchors": false,
   "latex_user_defs": false,
   "report_style_numbering": false,
   "user_envs_cfg": false
  },
  "notify_time": "10"
 },
 "nbformat": 4,
 "nbformat_minor": 2
}
