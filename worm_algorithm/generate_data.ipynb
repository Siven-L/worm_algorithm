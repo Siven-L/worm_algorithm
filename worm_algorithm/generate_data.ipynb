{
 "cells": [
  {
   "cell_type": "markdown",
   "metadata": {},
   "source": [
    "# Generate Data"
   ]
  },
  {
   "cell_type": "markdown",
   "metadata": {},
   "source": [
    "## Imports"
   ]
  },
  {
   "cell_type": "code",
   "execution_count": 2,
   "metadata": {
    "ExecuteTime": {
     "end_time": "2018-01-16T00:20:23.298287Z",
     "start_time": "2018-01-16T00:20:23.236396Z"
    },
    "collapsed": true
   },
   "outputs": [],
   "source": [
    "import numpy as np\n",
    "import pandas as pd\n",
    "import matplotlib.pyplot as plt\n",
    "import sys\n",
    "import os\n",
    "import time\n",
    "#from operator import xor\n",
    "#from blocks import Blocks\n",
    "from worm_simulation import WormSimulation\n",
    "from bonds import Bonds\n",
    "from specific_heat import SpecificHeat\n",
    "from pca import PrincipalComponent\n",
    "#from iterated_blocking import *\n",
    "#from count_bonds import *\n",
    "from specific_heat import SpecificHeat\n",
    "from count_bonds import *\n",
    "import matplotlib.image as mpimg\n",
    "from matplotlib.offsetbox import AnchoredText\n",
    "import matplotlib.offsetbox as offsetbox\n",
    "\n",
    "%autoreload 2\n",
    "%matplotlib notebook\n",
    "import matplotlib as mpl\n",
    "label_size = 14\n",
    "plt.rc('font', family='serif')\n",
    "plt.rc('text', usetex=True)\n",
    "mpl.rcParams['xtick.labelsize'] = label_size \n",
    "mpl.rcParams['ytick.labelsize'] = label_size \n",
    "\n",
    "Tc =  2./np.log(1+np.sqrt(2))    # critical temperature"
   ]
  },
  {
   "cell_type": "code",
   "execution_count": 3,
   "metadata": {
    "ExecuteTime": {
     "end_time": "2018-01-16T00:21:51.439653Z",
     "start_time": "2018-01-16T00:21:51.405713Z"
    },
    "collapsed": true
   },
   "outputs": [],
   "source": [
    "bonds4_temp_arr = np.arange(1., 4., 0.1)"
   ]
  },
  {
   "cell_type": "code",
   "execution_count": 5,
   "metadata": {
    "ExecuteTime": {
     "end_time": "2018-01-16T00:22:29.650444Z",
     "start_time": "2018-01-16T00:22:29.621927Z"
    }
   },
   "outputs": [],
   "source": [
    "bonds4_fine_temp_arr = np.arange(1.8, 3., 0.05)"
   ]
  },
  {
   "cell_type": "code",
   "execution_count": 6,
   "metadata": {
    "ExecuteTime": {
     "end_time": "2018-01-16T00:22:33.919667Z",
     "start_time": "2018-01-16T00:22:33.874052Z"
    }
   },
   "outputs": [
    {
     "data": {
      "text/plain": [
       "array([ 1.8 ,  1.85,  1.9 ,  1.95,  2.  ,  2.05,  2.1 ,  2.15,  2.2 ,\n",
       "        2.25,  2.3 ,  2.35,  2.4 ,  2.45,  2.5 ,  2.55,  2.6 ,  2.65,\n",
       "        2.7 ,  2.75,  2.8 ,  2.85,  2.9 ,  2.95])"
      ]
     },
     "execution_count": 6,
     "metadata": {},
     "output_type": "execute_result"
    }
   ],
   "source": [
    "bonds4_fine_temp_arr"
   ]
  },
  {
   "cell_type": "code",
   "execution_count": 8,
   "metadata": {
    "ExecuteTime": {
     "end_time": "2018-01-16T00:24:01.567517Z",
     "start_time": "2018-01-16T00:24:01.538456Z"
    }
   },
   "outputs": [],
   "source": [
    "bonds4_temps = []\n",
    "for i in bonds4_temp_arr:\n",
    "    bonds4_temps.append(i)\n",
    "for i in bonds4_fine_temp_arr:\n",
    "    bonds4_temps.append(i)"
   ]
  },
  {
   "cell_type": "code",
   "execution_count": null,
   "metadata": {
    "ExecuteTime": {
     "start_time": "2018-01-18T19:22:12.070Z"
    }
   },
   "outputs": [
    {
     "name": "stdout",
     "output_type": "stream",
     "text": [
      "\n",
      "********************************************************************************\n",
      "\n",
      "Run #: 0\n",
      "\n",
      "********************************************************************************\n",
      "\n",
      "compilation -- start\n",
      "\n",
      "compilation -- done\n",
      "\n",
      "runs -- start\n",
      "\n",
      "Running T = 1.0, num_steps: 100000000.0\n",
      "Running T = 1.1, num_steps: 100000000.0\n",
      "Running T = 1.2, num_steps: 100000000.0\n",
      "Running T = 1.3, num_steps: 100000000.0\n",
      "Running T = 1.4, num_steps: 100000000.0\n",
      "Running T = 1.5, num_steps: 100000000.0\n",
      "Running T = 1.6, num_steps: 100000000.0\n",
      "Running T = 1.7, num_steps: 100000000.0\n",
      "Running T = 1.8, num_steps: 100000000.0\n",
      "Running T = 1.8, num_steps: 100000000.0\n",
      "Running T = 1.85, num_steps: 100000000.0\n",
      "Running T = 1.9, num_steps: 100000000.0\n",
      "Running T = 1.9, num_steps: 100000000.0\n",
      "Running T = 1.95, num_steps: 100000000.0\n",
      "Running T = 2.0, num_steps: 100000000.0\n",
      "Running T = 2.0, num_steps: 100000000.0\n",
      "Running T = 2.05, num_steps: 100000000.0\n",
      "Running T = 2.1, num_steps: 100000000.0\n",
      "Running T = 2.1, num_steps: 100000000.0\n",
      "Running T = 2.15, num_steps: 100000000.0\n",
      "Running T = 2.2, num_steps: 100000000.0\n",
      "Running T = 2.2, num_steps: 100000000.0\n",
      "Running T = 2.25, num_steps: 100000000.0\n",
      "Running T = 2.3, num_steps: 100000000.0\n",
      "Running T = 2.3, num_steps: 100000000.0\n"
     ]
    }
   ],
   "source": [
    "for i in range(1):\n",
    "    t0 = time.time()\n",
    "    print(\"\\n\" + 80*\"*\" + \"\\n\")\n",
    "    print(\"Run #: {0}\".format(i))\n",
    "    print(\"\\n\" + 80*\"*\" + \"\\n\")\n",
    "    bonds4 = Bonds(4, run=True, num_steps=1E8, T_arr=bonds4_temps)"
   ]
  },
  {
   "cell_type": "code",
   "execution_count": 20,
   "metadata": {
    "ExecuteTime": {
     "end_time": "2018-01-16T00:34:40.230694Z",
     "start_time": "2018-01-16T00:32:04.118800Z"
    },
    "collapsed": true
   },
   "outputs": [
    {
     "name": "stdout",
     "output_type": "stream",
     "text": [
      "compilation -- start\n",
      "\n",
      "compilation -- done\n",
      "\n",
      "runs -- start\n",
      "\n",
      "Running T = 1.0, num_steps: 10000000.0\n",
      "Running T = 1.1, num_steps: 10000000.0\n",
      "Running T = 1.2, num_steps: 10000000.0\n",
      "Running T = 1.3, num_steps: 10000000.0\n",
      "Running T = 1.4, num_steps: 10000000.0\n",
      "Running T = 1.5, num_steps: 10000000.0\n",
      "Running T = 1.6, num_steps: 10000000.0\n",
      "Running T = 1.7, num_steps: 10000000.0\n",
      "Running T = 1.8, num_steps: 10000000.0\n",
      "Running T = 1.8, num_steps: 10000000.0\n",
      "Running T = 1.85, num_steps: 10000000.0\n",
      "Running T = 1.9, num_steps: 10000000.0\n",
      "Running T = 1.9, num_steps: 10000000.0\n",
      "Running T = 1.95, num_steps: 10000000.0\n",
      "Running T = 2.0, num_steps: 10000000.0\n",
      "Running T = 2.0, num_steps: 10000000.0\n",
      "Running T = 2.05, num_steps: 10000000.0\n",
      "Running T = 2.1, num_steps: 10000000.0\n",
      "Running T = 2.1, num_steps: 10000000.0\n",
      "Running T = 2.15, num_steps: 10000000.0\n",
      "Running T = 2.2, num_steps: 10000000.0\n",
      "Running T = 2.2, num_steps: 10000000.0\n",
      "Running T = 2.25, num_steps: 10000000.0\n",
      "Running T = 2.3, num_steps: 10000000.0\n",
      "Running T = 2.3, num_steps: 10000000.0\n",
      "Running T = 2.35, num_steps: 10000000.0\n",
      "Running T = 2.4, num_steps: 10000000.0\n",
      "Running T = 2.4, num_steps: 10000000.0\n",
      "Running T = 2.45, num_steps: 10000000.0\n",
      "Running T = 2.5, num_steps: 10000000.0\n",
      "Running T = 2.5, num_steps: 10000000.0\n",
      "Running T = 2.55, num_steps: 10000000.0\n",
      "Running T = 2.6, num_steps: 10000000.0\n",
      "Running T = 2.6, num_steps: 10000000.0\n",
      "Running T = 2.65, num_steps: 10000000.0\n",
      "Running T = 2.7, num_steps: 10000000.0\n",
      "Running T = 2.7, num_steps: 10000000.0\n",
      "Running T = 2.75, num_steps: 10000000.0\n",
      "Running T = 2.8, num_steps: 10000000.0\n",
      "Running T = 2.8, num_steps: 10000000.0\n",
      "Running T = 2.85, num_steps: 10000000.0\n",
      "Running T = 2.9, num_steps: 10000000.0\n",
      "Running T = 2.9, num_steps: 10000000.0\n",
      "Running T = 2.95, num_steps: 10000000.0\n",
      "Running T = 3.0, num_steps: 10000000.0\n",
      "Running T = 3.1, num_steps: 10000000.0\n",
      "Running T = 3.2, num_steps: 10000000.0\n",
      "Running T = 3.3, num_steps: 10000000.0\n",
      "Running T = 3.4, num_steps: 10000000.0\n",
      "Running T = 3.5, num_steps: 10000000.0\n",
      "Running T = 3.6, num_steps: 10000000.0\n",
      "Running T = 3.7, num_steps: 10000000.0\n",
      "Running T = 3.8, num_steps: 10000000.0\n",
      "Running T = 3.9, num_steps: 10000000.0\n",
      "Saving configs to: ../data/configs/4_lattice/separated_data/4_config_1.0.txt\n",
      "Saving configs to: ../data/configs/4_lattice/separated_data/4_config_1.1.txt\n",
      "Saving configs to: ../data/configs/4_lattice/separated_data/4_config_1.2.txt\n",
      "Saving configs to: ../data/configs/4_lattice/separated_data/4_config_1.3.txt\n",
      "Saving configs to: ../data/configs/4_lattice/separated_data/4_config_1.4.txt\n",
      "Saving configs to: ../data/configs/4_lattice/separated_data/4_config_1.5.txt\n",
      "Saving configs to: ../data/configs/4_lattice/separated_data/4_config_1.6.txt\n",
      "Saving configs to: ../data/configs/4_lattice/separated_data/4_config_1.7.txt\n",
      "Saving configs to: ../data/configs/4_lattice/separated_data/4_config_1.8.txt\n",
      "Saving configs to: ../data/configs/4_lattice/separated_data/4_config_1.85.txt\n",
      "Saving configs to: ../data/configs/4_lattice/separated_data/4_config_1.9.txt\n",
      "Saving configs to: ../data/configs/4_lattice/separated_data/4_config_1.95.txt\n",
      "Saving configs to: ../data/configs/4_lattice/separated_data/4_config_2.0.txt\n",
      "Saving configs to: ../data/configs/4_lattice/separated_data/4_config_2.05.txt\n",
      "Saving configs to: ../data/configs/4_lattice/separated_data/4_config_2.1.txt\n",
      "Saving configs to: ../data/configs/4_lattice/separated_data/4_config_2.15.txt\n",
      "Saving configs to: ../data/configs/4_lattice/separated_data/4_config_2.2.txt\n",
      "Saving configs to: ../data/configs/4_lattice/separated_data/4_config_2.25.txt\n",
      "Saving configs to: ../data/configs/4_lattice/separated_data/4_config_2.3.txt\n",
      "Saving configs to: ../data/configs/4_lattice/separated_data/4_config_2.35.txt\n",
      "Saving configs to: ../data/configs/4_lattice/separated_data/4_config_2.4.txt\n",
      "Saving configs to: ../data/configs/4_lattice/separated_data/4_config_2.45.txt\n",
      "Saving configs to: ../data/configs/4_lattice/separated_data/4_config_2.5.txt\n",
      "Saving configs to: ../data/configs/4_lattice/separated_data/4_config_2.55.txt\n",
      "Saving configs to: ../data/configs/4_lattice/separated_data/4_config_2.6.txt\n",
      "Saving configs to: ../data/configs/4_lattice/separated_data/4_config_2.65.txt\n",
      "Saving configs to: ../data/configs/4_lattice/separated_data/4_config_2.7.txt\n",
      "Saving configs to: ../data/configs/4_lattice/separated_data/4_config_2.75.txt\n",
      "Saving configs to: ../data/configs/4_lattice/separated_data/4_config_2.8.txt\n",
      "Saving configs to: ../data/configs/4_lattice/separated_data/4_config_2.85.txt\n",
      "Saving configs to: ../data/configs/4_lattice/separated_data/4_config_2.9.txt\n",
      "Saving configs to: ../data/configs/4_lattice/separated_data/4_config_2.95.txt\n",
      "Saving configs to: ../data/configs/4_lattice/separated_data/4_config_3.0.txt\n",
      "Saving configs to: ../data/configs/4_lattice/separated_data/4_config_3.1.txt\n",
      "Saving configs to: ../data/configs/4_lattice/separated_data/4_config_3.2.txt\n",
      "Saving configs to: ../data/configs/4_lattice/separated_data/4_config_3.3.txt\n",
      "Saving configs to: ../data/configs/4_lattice/separated_data/4_config_3.4.txt\n",
      "Saving configs to: ../data/configs/4_lattice/separated_data/4_config_3.5.txt\n",
      "Saving configs to: ../data/configs/4_lattice/separated_data/4_config_3.6.txt\n",
      "Saving configs to: ../data/configs/4_lattice/separated_data/4_config_3.7.txt\n",
      "Saving configs to: ../data/configs/4_lattice/separated_data/4_config_3.8.txt\n",
      "Saving configs to: ../data/configs/4_lattice/separated_data/4_config_3.9.txt\n",
      "Saving blocked configs to: ../data/blocked_configs/4_lattice/double_bonds_0/4_config_1.0.txt\n",
      "Saving blocked configs to: ../data/blocked_configs/4_lattice/double_bonds_0/4_config_1.1.txt\n",
      "Saving blocked configs to: ../data/blocked_configs/4_lattice/double_bonds_0/4_config_1.2.txt\n",
      "Saving blocked configs to: ../data/blocked_configs/4_lattice/double_bonds_0/4_config_1.3.txt\n",
      "Saving blocked configs to: ../data/blocked_configs/4_lattice/double_bonds_0/4_config_1.4.txt\n",
      "Saving blocked configs to: ../data/blocked_configs/4_lattice/double_bonds_0/4_config_1.5.txt\n",
      "Saving blocked configs to: ../data/blocked_configs/4_lattice/double_bonds_0/4_config_1.6.txt\n",
      "Saving blocked configs to: ../data/blocked_configs/4_lattice/double_bonds_0/4_config_1.7.txt\n",
      "Saving blocked configs to: ../data/blocked_configs/4_lattice/double_bonds_0/4_config_1.8.txt\n",
      "Saving blocked configs to: ../data/blocked_configs/4_lattice/double_bonds_0/4_config_1.85.txt\n",
      "Saving blocked configs to: ../data/blocked_configs/4_lattice/double_bonds_0/4_config_1.9.txt\n",
      "Saving blocked configs to: ../data/blocked_configs/4_lattice/double_bonds_0/4_config_1.95.txt\n",
      "Saving blocked configs to: ../data/blocked_configs/4_lattice/double_bonds_0/4_config_2.0.txt\n",
      "Saving blocked configs to: ../data/blocked_configs/4_lattice/double_bonds_0/4_config_2.05.txt\n",
      "Saving blocked configs to: ../data/blocked_configs/4_lattice/double_bonds_0/4_config_2.1.txt\n",
      "Saving blocked configs to: ../data/blocked_configs/4_lattice/double_bonds_0/4_config_2.15.txt\n",
      "Saving blocked configs to: ../data/blocked_configs/4_lattice/double_bonds_0/4_config_2.2.txt\n",
      "Saving blocked configs to: ../data/blocked_configs/4_lattice/double_bonds_0/4_config_2.25.txt\n",
      "Saving blocked configs to: ../data/blocked_configs/4_lattice/double_bonds_0/4_config_2.3.txt\n",
      "Saving blocked configs to: ../data/blocked_configs/4_lattice/double_bonds_0/4_config_2.35.txt\n",
      "Saving blocked configs to: ../data/blocked_configs/4_lattice/double_bonds_0/4_config_2.4.txt\n",
      "Saving blocked configs to: ../data/blocked_configs/4_lattice/double_bonds_0/4_config_2.45.txt\n",
      "Saving blocked configs to: ../data/blocked_configs/4_lattice/double_bonds_0/4_config_2.5.txt\n",
      "Saving blocked configs to: ../data/blocked_configs/4_lattice/double_bonds_0/4_config_2.55.txt\n",
      "Saving blocked configs to: ../data/blocked_configs/4_lattice/double_bonds_0/4_config_2.6.txt\n",
      "Saving blocked configs to: ../data/blocked_configs/4_lattice/double_bonds_0/4_config_2.65.txt\n",
      "Saving blocked configs to: ../data/blocked_configs/4_lattice/double_bonds_0/4_config_2.7.txt\n",
      "Saving blocked configs to: ../data/blocked_configs/4_lattice/double_bonds_0/4_config_2.75.txt\n",
      "Saving blocked configs to: ../data/blocked_configs/4_lattice/double_bonds_0/4_config_2.8.txt\n",
      "Saving blocked configs to: ../data/blocked_configs/4_lattice/double_bonds_0/4_config_2.85.txt\n"
     ]
    },
    {
     "name": "stdout",
     "output_type": "stream",
     "text": [
      "Saving blocked configs to: ../data/blocked_configs/4_lattice/double_bonds_0/4_config_2.9.txt\n",
      "Saving blocked configs to: ../data/blocked_configs/4_lattice/double_bonds_0/4_config_2.95.txt\n",
      "Saving blocked configs to: ../data/blocked_configs/4_lattice/double_bonds_0/4_config_3.0.txt\n",
      "Saving blocked configs to: ../data/blocked_configs/4_lattice/double_bonds_0/4_config_3.1.txt\n",
      "Saving blocked configs to: ../data/blocked_configs/4_lattice/double_bonds_0/4_config_3.2.txt\n",
      "Saving blocked configs to: ../data/blocked_configs/4_lattice/double_bonds_0/4_config_3.3.txt\n",
      "Saving blocked configs to: ../data/blocked_configs/4_lattice/double_bonds_0/4_config_3.4.txt\n",
      "Saving blocked configs to: ../data/blocked_configs/4_lattice/double_bonds_0/4_config_3.5.txt\n",
      "Saving blocked configs to: ../data/blocked_configs/4_lattice/double_bonds_0/4_config_3.6.txt\n",
      "Saving blocked configs to: ../data/blocked_configs/4_lattice/double_bonds_0/4_config_3.7.txt\n",
      "Saving blocked configs to: ../data/blocked_configs/4_lattice/double_bonds_0/4_config_3.8.txt\n",
      "Saving blocked configs to: ../data/blocked_configs/4_lattice/double_bonds_0/4_config_3.9.txt\n"
     ]
    }
   ],
   "source": [
    "bonds4 = Bonds(4, run=True, num_steps=1E7, T_arr=bonds4_temps)"
   ]
  },
  {
   "cell_type": "code",
   "execution_count": null,
   "metadata": {
    "collapsed": true
   },
   "outputs": [],
   "source": [
    "##########################################################\n",
    "#        Feel free to change parameters as needed        #\n",
    "##########################################################\n",
    "for i in range(10):\n",
    "    print(\"\\n\" + 80*\"*\" + \"\\n\")\n",
    "    print(\"Run #: {}\".format(i))\n",
    "    print(\"\\n\" + 80*\"*\" + \"\\n\")\n",
    "    # run from 1.0 to 3.5 in steps of 0.1\n",
    "    bonds4 = Bonds(4, run=True, num_steps=1E8)\n",
    "    bonds8 = Bonds(8, run=True, num_steps=1E8)\n",
    "    bonds16 = Bonds(16, run=True, num_steps=1E8)\n",
    "    bonds32 = Bonds(32, run=True, num_steps=1E7)\n",
    "    # run from 1.8 to 2.8 in steps of 0.05\n",
    "    bonds32 = Bonds(32, run=True, num_steps=1E8, \n",
    "                    T_start=1.8, T_end=2.8, T_step=0.05)\n",
    "    bonds16 = Bonds(16, run=True, num_steps=1E8, \n",
    "                    T_start=1.8, T_end=2.8, T_step=0.05)\n",
    "    bonds8 = Bonds(8, run=True, num_steps=1E8, \n",
    "                   T_start=1.8, T_end=2.8, T_step=0.05)\n",
    "    bonds4 = Bonds(4, run=True, num_steps=1E8, \n",
    "                   T_start=1.8, T_end=2.8, T_step=0.05)"
   ]
  }
 ],
 "metadata": {
  "hide_input": false,
  "kernelspec": {
   "display_name": "Python 3",
   "language": "python",
   "name": "python3"
  },
  "language_info": {
   "codemirror_mode": {
    "name": "ipython",
    "version": 3
   },
   "file_extension": ".py",
   "mimetype": "text/x-python",
   "name": "python",
   "nbconvert_exporter": "python",
   "pygments_lexer": "ipython3",
   "version": "3.6.4"
  },
  "latex_envs": {
   "LaTeX_envs_menu_present": true,
   "bibliofile": "biblio.bib",
   "cite_by": "apalike",
   "current_citInitial": 1,
   "eqLabelWithNumbers": true,
   "eqNumInitial": 1,
   "labels_anchors": false,
   "latex_user_defs": false,
   "report_style_numbering": false,
   "user_envs_cfg": false
  }
 },
 "nbformat": 4,
 "nbformat_minor": 2
}
